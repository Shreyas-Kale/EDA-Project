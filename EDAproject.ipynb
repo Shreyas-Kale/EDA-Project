{
  "nbformat": 4,
  "nbformat_minor": 0,
  "metadata": {
    "colab": {
      "name": "EDAproject.ipynb",
      "provenance": [],
      "collapsed_sections": [
        "xoHE3tySyv1f",
        "9ZrpGwJ6Rpdz",
        "KNOnipfsTOD9",
        "EpX82PS2WDGV",
        "ITce7P2tXHot",
        "Shl1lBfGYCUn",
        "-M0D76uZYhlR",
        "bVuomMsEYrq0",
        "6K81yl3bY7Mi",
        "V2PyHWe8HQqr",
        "YBH_ch63Zar9",
        "0DlGVPP5ScVi",
        "Pbp5FB0ISxTv",
        "CACqAZhUw78t",
        "fOX6KXhQyk3d",
        "dtkbxPK7_Kzy",
        "9ERmHoiTby30"
      ],
      "toc_visible": true
    },
    "kernelspec": {
      "name": "python3",
      "display_name": "Python 3"
    }
  },
  "cells": [
    {
      "cell_type": "markdown",
      "metadata": {
        "id": "xoHE3tySyv1f",
        "colab_type": "text"
      },
      "source": [
        "# ***Internship Project ***\n",
        "\n",
        " **Objective**\n",
        "The objective of the project is to do data pre-processing and exploratory data analysis\n",
        "of the dataset\n",
        "\n",
        "\n",
        "*   Name : Shreyas Mohan Kale\n",
        "\n",
        "\n",
        "\n",
        "\n",
        "\n"
      ]
    },
    {
      "cell_type": "markdown",
      "metadata": {
        "id": "9ZrpGwJ6Rpdz",
        "colab_type": "text"
      },
      "source": [
        "# **Step 1**: Importing the dataset and the necessary libraries, checking datatype, statistical summary, shape, null values etc.\n"
      ]
    },
    {
      "cell_type": "markdown",
      "metadata": {
        "id": "_XA8pFhUJKQq",
        "colab_type": "text"
      },
      "source": [
        "\n",
        "\n",
        "*   This is done just to get a brief summary of what our dataset is and what it comprises.\n",
        "*   Also datatype should be checked beacuse if target variable is object then will face problems in the upcoming steps.\n",
        "\n"
      ]
    },
    {
      "cell_type": "code",
      "metadata": {
        "id": "ejpLdhgFyafu",
        "colab_type": "code",
        "colab": {
          "base_uri": "https://localhost:8080/",
          "height": 0
        },
        "outputId": "87289729-6b8b-42e5-94d6-ce77a4b45862"
      },
      "source": [
        "#Importing libraries (These are not the all but other libraries will be imported when needed)\n",
        "import numpy as np\n",
        "import pandas as pd\n",
        "import matplotlib.pyplot as plt\n",
        "%matplotlib inline\n",
        "import seaborn as sns\n",
        "\n",
        "#Importing the car dataset\n",
        "df= pd.read_csv('data.csv')\n",
        "df.head()"
      ],
      "execution_count": 202,
      "outputs": [
        {
          "output_type": "execute_result",
          "data": {
            "text/html": [
              "<div>\n",
              "<style scoped>\n",
              "    .dataframe tbody tr th:only-of-type {\n",
              "        vertical-align: middle;\n",
              "    }\n",
              "\n",
              "    .dataframe tbody tr th {\n",
              "        vertical-align: top;\n",
              "    }\n",
              "\n",
              "    .dataframe thead th {\n",
              "        text-align: right;\n",
              "    }\n",
              "</style>\n",
              "<table border=\"1\" class=\"dataframe\">\n",
              "  <thead>\n",
              "    <tr style=\"text-align: right;\">\n",
              "      <th></th>\n",
              "      <th>Make</th>\n",
              "      <th>Model</th>\n",
              "      <th>Year</th>\n",
              "      <th>Engine Fuel Type</th>\n",
              "      <th>Engine HP</th>\n",
              "      <th>Engine Cylinders</th>\n",
              "      <th>Transmission Type</th>\n",
              "      <th>Driven_Wheels</th>\n",
              "      <th>Number of Doors</th>\n",
              "      <th>Market Category</th>\n",
              "      <th>Vehicle Size</th>\n",
              "      <th>Vehicle Style</th>\n",
              "      <th>highway MPG</th>\n",
              "      <th>city mpg</th>\n",
              "      <th>Popularity</th>\n",
              "      <th>MSRP</th>\n",
              "    </tr>\n",
              "  </thead>\n",
              "  <tbody>\n",
              "    <tr>\n",
              "      <th>0</th>\n",
              "      <td>BMW</td>\n",
              "      <td>1 Series M</td>\n",
              "      <td>2011</td>\n",
              "      <td>premium unleaded (required)</td>\n",
              "      <td>335.0</td>\n",
              "      <td>6.0</td>\n",
              "      <td>MANUAL</td>\n",
              "      <td>rear wheel drive</td>\n",
              "      <td>2.0</td>\n",
              "      <td>Factory Tuner,Luxury,High-Performance</td>\n",
              "      <td>Compact</td>\n",
              "      <td>Coupe</td>\n",
              "      <td>26</td>\n",
              "      <td>19</td>\n",
              "      <td>3916</td>\n",
              "      <td>46135</td>\n",
              "    </tr>\n",
              "    <tr>\n",
              "      <th>1</th>\n",
              "      <td>BMW</td>\n",
              "      <td>1 Series</td>\n",
              "      <td>2011</td>\n",
              "      <td>premium unleaded (required)</td>\n",
              "      <td>300.0</td>\n",
              "      <td>6.0</td>\n",
              "      <td>MANUAL</td>\n",
              "      <td>rear wheel drive</td>\n",
              "      <td>2.0</td>\n",
              "      <td>Luxury,Performance</td>\n",
              "      <td>Compact</td>\n",
              "      <td>Convertible</td>\n",
              "      <td>28</td>\n",
              "      <td>19</td>\n",
              "      <td>3916</td>\n",
              "      <td>40650</td>\n",
              "    </tr>\n",
              "    <tr>\n",
              "      <th>2</th>\n",
              "      <td>BMW</td>\n",
              "      <td>1 Series</td>\n",
              "      <td>2011</td>\n",
              "      <td>premium unleaded (required)</td>\n",
              "      <td>300.0</td>\n",
              "      <td>6.0</td>\n",
              "      <td>MANUAL</td>\n",
              "      <td>rear wheel drive</td>\n",
              "      <td>2.0</td>\n",
              "      <td>Luxury,High-Performance</td>\n",
              "      <td>Compact</td>\n",
              "      <td>Coupe</td>\n",
              "      <td>28</td>\n",
              "      <td>20</td>\n",
              "      <td>3916</td>\n",
              "      <td>36350</td>\n",
              "    </tr>\n",
              "    <tr>\n",
              "      <th>3</th>\n",
              "      <td>BMW</td>\n",
              "      <td>1 Series</td>\n",
              "      <td>2011</td>\n",
              "      <td>premium unleaded (required)</td>\n",
              "      <td>230.0</td>\n",
              "      <td>6.0</td>\n",
              "      <td>MANUAL</td>\n",
              "      <td>rear wheel drive</td>\n",
              "      <td>2.0</td>\n",
              "      <td>Luxury,Performance</td>\n",
              "      <td>Compact</td>\n",
              "      <td>Coupe</td>\n",
              "      <td>28</td>\n",
              "      <td>18</td>\n",
              "      <td>3916</td>\n",
              "      <td>29450</td>\n",
              "    </tr>\n",
              "    <tr>\n",
              "      <th>4</th>\n",
              "      <td>BMW</td>\n",
              "      <td>1 Series</td>\n",
              "      <td>2011</td>\n",
              "      <td>premium unleaded (required)</td>\n",
              "      <td>230.0</td>\n",
              "      <td>6.0</td>\n",
              "      <td>MANUAL</td>\n",
              "      <td>rear wheel drive</td>\n",
              "      <td>2.0</td>\n",
              "      <td>Luxury</td>\n",
              "      <td>Compact</td>\n",
              "      <td>Convertible</td>\n",
              "      <td>28</td>\n",
              "      <td>18</td>\n",
              "      <td>3916</td>\n",
              "      <td>34500</td>\n",
              "    </tr>\n",
              "  </tbody>\n",
              "</table>\n",
              "</div>"
            ],
            "text/plain": [
              "  Make       Model  Year  ... city mpg  Popularity   MSRP\n",
              "0  BMW  1 Series M  2011  ...       19        3916  46135\n",
              "1  BMW    1 Series  2011  ...       19        3916  40650\n",
              "2  BMW    1 Series  2011  ...       20        3916  36350\n",
              "3  BMW    1 Series  2011  ...       18        3916  29450\n",
              "4  BMW    1 Series  2011  ...       18        3916  34500\n",
              "\n",
              "[5 rows x 16 columns]"
            ]
          },
          "metadata": {
            "tags": []
          },
          "execution_count": 202
        }
      ]
    },
    {
      "cell_type": "code",
      "metadata": {
        "id": "Ei3PftOn1Bhf",
        "colab_type": "code",
        "colab": {
          "base_uri": "https://localhost:8080/",
          "height": 0
        },
        "outputId": "a0b1ae3e-554b-4775-a065-2750281e986b"
      },
      "source": [
        "#checking shape\n",
        "df.shape"
      ],
      "execution_count": 203,
      "outputs": [
        {
          "output_type": "execute_result",
          "data": {
            "text/plain": [
              "(11914, 16)"
            ]
          },
          "metadata": {
            "tags": []
          },
          "execution_count": 203
        }
      ]
    },
    {
      "cell_type": "code",
      "metadata": {
        "id": "X7lB4R0J0kvf",
        "colab_type": "code",
        "colab": {
          "base_uri": "https://localhost:8080/",
          "height": 0
        },
        "outputId": "5c86da62-d519-4e3d-c946-ee004d758a35"
      },
      "source": [
        "#Checking datatype\n",
        "df.info()"
      ],
      "execution_count": 204,
      "outputs": [
        {
          "output_type": "stream",
          "text": [
            "<class 'pandas.core.frame.DataFrame'>\n",
            "RangeIndex: 11914 entries, 0 to 11913\n",
            "Data columns (total 16 columns):\n",
            " #   Column             Non-Null Count  Dtype  \n",
            "---  ------             --------------  -----  \n",
            " 0   Make               11914 non-null  object \n",
            " 1   Model              11914 non-null  object \n",
            " 2   Year               11914 non-null  int64  \n",
            " 3   Engine Fuel Type   11911 non-null  object \n",
            " 4   Engine HP          11845 non-null  float64\n",
            " 5   Engine Cylinders   11884 non-null  float64\n",
            " 6   Transmission Type  11914 non-null  object \n",
            " 7   Driven_Wheels      11914 non-null  object \n",
            " 8   Number of Doors    11908 non-null  float64\n",
            " 9   Market Category    8172 non-null   object \n",
            " 10  Vehicle Size       11914 non-null  object \n",
            " 11  Vehicle Style      11914 non-null  object \n",
            " 12  highway MPG        11914 non-null  int64  \n",
            " 13  city mpg           11914 non-null  int64  \n",
            " 14  Popularity         11914 non-null  int64  \n",
            " 15  MSRP               11914 non-null  int64  \n",
            "dtypes: float64(3), int64(5), object(8)\n",
            "memory usage: 1.5+ MB\n"
          ],
          "name": "stdout"
        }
      ]
    },
    {
      "cell_type": "code",
      "metadata": {
        "id": "6Z01DGyE78gb",
        "colab_type": "code",
        "colab": {
          "base_uri": "https://localhost:8080/",
          "height": 0
        },
        "outputId": "7af5bf7b-7109-468c-d43f-daee911d274c"
      },
      "source": [
        "#Checking the numerical features\n",
        "df.dtypes"
      ],
      "execution_count": 205,
      "outputs": [
        {
          "output_type": "execute_result",
          "data": {
            "text/plain": [
              "Make                  object\n",
              "Model                 object\n",
              "Year                   int64\n",
              "Engine Fuel Type      object\n",
              "Engine HP            float64\n",
              "Engine Cylinders     float64\n",
              "Transmission Type     object\n",
              "Driven_Wheels         object\n",
              "Number of Doors      float64\n",
              "Market Category       object\n",
              "Vehicle Size          object\n",
              "Vehicle Style         object\n",
              "highway MPG            int64\n",
              "city mpg               int64\n",
              "Popularity             int64\n",
              "MSRP                   int64\n",
              "dtype: object"
            ]
          },
          "metadata": {
            "tags": []
          },
          "execution_count": 205
        }
      ]
    },
    {
      "cell_type": "code",
      "metadata": {
        "id": "lHArXBrQ30bA",
        "colab_type": "code",
        "colab": {
          "base_uri": "https://localhost:8080/",
          "height": 0
        },
        "outputId": "1bc03585-6942-4c19-8989-dc4a56592ebe"
      },
      "source": [
        "#Checking which features have null values\n",
        "df.isnull().any()"
      ],
      "execution_count": 206,
      "outputs": [
        {
          "output_type": "execute_result",
          "data": {
            "text/plain": [
              "Make                 False\n",
              "Model                False\n",
              "Year                 False\n",
              "Engine Fuel Type      True\n",
              "Engine HP             True\n",
              "Engine Cylinders      True\n",
              "Transmission Type    False\n",
              "Driven_Wheels        False\n",
              "Number of Doors       True\n",
              "Market Category       True\n",
              "Vehicle Size         False\n",
              "Vehicle Style        False\n",
              "highway MPG          False\n",
              "city mpg             False\n",
              "Popularity           False\n",
              "MSRP                 False\n",
              "dtype: bool"
            ]
          },
          "metadata": {
            "tags": []
          },
          "execution_count": 206
        }
      ]
    },
    {
      "cell_type": "markdown",
      "metadata": {
        "id": "ba9AUcf1Bhow",
        "colab_type": "text"
      },
      "source": [
        "Features with True in the above output have null values."
      ]
    },
    {
      "cell_type": "markdown",
      "metadata": {
        "id": "KNOnipfsTOD9",
        "colab_type": "text"
      },
      "source": [
        "# **Step 2**: Dropping the columns of less revelance."
      ]
    },
    {
      "cell_type": "markdown",
      "metadata": {
        "id": "EXtITNh6DV3o",
        "colab_type": "text"
      },
      "source": [
        "*   Dropping unnecessary columns is a good practice , as they dont much contribute to the prediction value.\n",
        "*   Moreover more no. of columns will result in more no. of variables to deal with and the model will become slow and sometimes less effective too.\n",
        "\n"
      ]
    },
    {
      "cell_type": "code",
      "metadata": {
        "id": "S57KCaLn1wQb",
        "colab_type": "code",
        "colab": {
          "base_uri": "https://localhost:8080/",
          "height": 0
        },
        "outputId": "60172e59-e415-47fc-f7c2-3ad14cd1f37d"
      },
      "source": [
        "#The feature 'Market Category' has many null values hence it will not be considered in prediction.\n",
        "#Showing no. of null values of Market Category\n",
        "df['Market Category'].isnull().sum()"
      ],
      "execution_count": 207,
      "outputs": [
        {
          "output_type": "execute_result",
          "data": {
            "text/plain": [
              "3742"
            ]
          },
          "metadata": {
            "tags": []
          },
          "execution_count": 207
        }
      ]
    },
    {
      "cell_type": "code",
      "metadata": {
        "id": "888IpXUw2yqB",
        "colab_type": "code",
        "colab": {
          "base_uri": "https://localhost:8080/",
          "height": 0
        },
        "outputId": "0c52dca9-71a6-49e1-97b3-8d200567bb00"
      },
      "source": [
        "#Droping the 'Market Category' column \n",
        "df.drop(['Market Category'], axis=1, inplace=True)\n",
        "\n",
        "#Checking if it is dropped or not\n",
        "df.columns"
      ],
      "execution_count": 208,
      "outputs": [
        {
          "output_type": "execute_result",
          "data": {
            "text/plain": [
              "Index(['Make', 'Model', 'Year', 'Engine Fuel Type', 'Engine HP',\n",
              "       'Engine Cylinders', 'Transmission Type', 'Driven_Wheels',\n",
              "       'Number of Doors', 'Vehicle Size', 'Vehicle Style', 'highway MPG',\n",
              "       'city mpg', 'Popularity', 'MSRP'],\n",
              "      dtype='object')"
            ]
          },
          "metadata": {
            "tags": []
          },
          "execution_count": 208
        }
      ]
    },
    {
      "cell_type": "markdown",
      "metadata": {
        "id": "T-3jRLH_B4tT",
        "colab_type": "text"
      },
      "source": [
        "*   Droping the columns 'Transmission Type','Driven_Wheels' because as you can see they are not the features on which car price is that dependent.\n",
        "*   While manufacturing a car, the cost difference among these features in themselves is very low.\n",
        "*   While manufacturing a car, the cost difference among these features in themselves is very low.\n",
        "*   Whatever the Transsion type the cost of manufacturaing that particular part will be almost same.\n",
        "And sam applies for Driven Wheels\n",
        "\n",
        "\n",
        "\n"
      ]
    },
    {
      "cell_type": "code",
      "metadata": {
        "id": "UAVY61v1ID7a",
        "colab_type": "code",
        "colab": {}
      },
      "source": [
        "#Dropping 'Transmission Type' and 'Driven Wheels'\n",
        "df.drop(['Transmission Type','Driven_Wheels'], axis=1, inplace=True)"
      ],
      "execution_count": 209,
      "outputs": []
    },
    {
      "cell_type": "markdown",
      "metadata": {
        "id": "EpX82PS2WDGV",
        "colab_type": "text"
      },
      "source": [
        "# **Step 3**:Renaming the columns  "
      ]
    },
    {
      "cell_type": "markdown",
      "metadata": {
        "id": "OD8o-MQFKaNs",
        "colab_type": "text"
      },
      "source": [
        "It is done just for readability ."
      ]
    },
    {
      "cell_type": "code",
      "metadata": {
        "id": "8-hniY760U5J",
        "colab_type": "code",
        "colab": {
          "base_uri": "https://localhost:8080/",
          "height": 0
        },
        "outputId": "5b95e7e5-cc5c-456e-ea05-1bc5eaca1399"
      },
      "source": [
        "#Renaming the columns\n",
        "df=df.rename(columns={ 'Engine HP': 'HP', 'Transmission Type': 'Transmission', 'Driven_Wheels': 'Drive Mode','highway MPG': 'MPG-H', 'city mpg': 'MPG-C', 'MSRP': 'Price'})\n",
        "df.columns"
      ],
      "execution_count": 210,
      "outputs": [
        {
          "output_type": "execute_result",
          "data": {
            "text/plain": [
              "Index(['Make', 'Model', 'Year', 'Engine Fuel Type', 'HP', 'Engine Cylinders',\n",
              "       'Number of Doors', 'Vehicle Size', 'Vehicle Style', 'MPG-H', 'MPG-C',\n",
              "       'Popularity', 'Price'],\n",
              "      dtype='object')"
            ]
          },
          "metadata": {
            "tags": []
          },
          "execution_count": 210
        }
      ]
    },
    {
      "cell_type": "markdown",
      "metadata": {
        "id": "ITce7P2tXHot",
        "colab_type": "text"
      },
      "source": [
        "# **Step 4**:Checking for any duplicates and removing them. Also checking for null values and filling them.\n",
        "\n",
        "\n"
      ]
    },
    {
      "cell_type": "markdown",
      "metadata": {
        "id": "B8zCfi6cE0Nw",
        "colab_type": "text"
      },
      "source": [
        "\n",
        "\n",
        "*   Although this an EDA project, still the null/missing values should be filled as it increases the data available and in turn helps our model to be slightly more effective\n",
        "*   As you can see below the null values are very less and hence it doesnt matter enough but still we'll fill them.  \n",
        "\n",
        "*   It doesn't affect the performance is same data is given for training the data and also more time is consumed because the lenght of dataset.\n",
        "*   Hence, we drop the duplicate rows.\n",
        "\n",
        "\n",
        "\n"
      ]
    },
    {
      "cell_type": "code",
      "metadata": {
        "id": "JGpsnGaO-jmb",
        "colab_type": "code",
        "colab": {
          "base_uri": "https://localhost:8080/",
          "height": 0
        },
        "outputId": "b1549447-0b0e-40c7-95a6-31dd94ad1fa4"
      },
      "source": [
        "#Checking the null values \n",
        "df.isnull().any()"
      ],
      "execution_count": 211,
      "outputs": [
        {
          "output_type": "execute_result",
          "data": {
            "text/plain": [
              "Make                False\n",
              "Model               False\n",
              "Year                False\n",
              "Engine Fuel Type     True\n",
              "HP                   True\n",
              "Engine Cylinders     True\n",
              "Number of Doors      True\n",
              "Vehicle Size        False\n",
              "Vehicle Style       False\n",
              "MPG-H               False\n",
              "MPG-C               False\n",
              "Popularity          False\n",
              "Price               False\n",
              "dtype: bool"
            ]
          },
          "metadata": {
            "tags": []
          },
          "execution_count": 211
        }
      ]
    },
    {
      "cell_type": "code",
      "metadata": {
        "id": "HGAFRnJo93eo",
        "colab_type": "code",
        "colab": {}
      },
      "source": [
        "#Filling the null numerical values\n",
        "df['HP'].fillna(value=df['HP'].mean(), inplace=True)\n",
        "df['Engine Cylinders'].fillna(value=df['Engine Cylinders'].mean(), inplace=True)\n",
        "df['Number of Doors'].fillna(value=df['Number of Doors'].mean(), inplace=True)"
      ],
      "execution_count": 212,
      "outputs": []
    },
    {
      "cell_type": "code",
      "metadata": {
        "id": "7ftG-vRS_QrR",
        "colab_type": "code",
        "colab": {
          "base_uri": "https://localhost:8080/",
          "height": 0
        },
        "outputId": "31c61856-026b-48d6-a0b9-9f59d1bfd20c"
      },
      "source": [
        "#Checking discription of features to decide which ones are not needed\n",
        "df.describe()"
      ],
      "execution_count": 213,
      "outputs": [
        {
          "output_type": "execute_result",
          "data": {
            "text/html": [
              "<div>\n",
              "<style scoped>\n",
              "    .dataframe tbody tr th:only-of-type {\n",
              "        vertical-align: middle;\n",
              "    }\n",
              "\n",
              "    .dataframe tbody tr th {\n",
              "        vertical-align: top;\n",
              "    }\n",
              "\n",
              "    .dataframe thead th {\n",
              "        text-align: right;\n",
              "    }\n",
              "</style>\n",
              "<table border=\"1\" class=\"dataframe\">\n",
              "  <thead>\n",
              "    <tr style=\"text-align: right;\">\n",
              "      <th></th>\n",
              "      <th>Year</th>\n",
              "      <th>HP</th>\n",
              "      <th>Engine Cylinders</th>\n",
              "      <th>Number of Doors</th>\n",
              "      <th>MPG-H</th>\n",
              "      <th>MPG-C</th>\n",
              "      <th>Popularity</th>\n",
              "      <th>Price</th>\n",
              "    </tr>\n",
              "  </thead>\n",
              "  <tbody>\n",
              "    <tr>\n",
              "      <th>count</th>\n",
              "      <td>11914.000000</td>\n",
              "      <td>11914.000000</td>\n",
              "      <td>11914.000000</td>\n",
              "      <td>11914.000000</td>\n",
              "      <td>11914.000000</td>\n",
              "      <td>11914.000000</td>\n",
              "      <td>11914.000000</td>\n",
              "      <td>1.191400e+04</td>\n",
              "    </tr>\n",
              "    <tr>\n",
              "      <th>mean</th>\n",
              "      <td>2010.384338</td>\n",
              "      <td>249.386070</td>\n",
              "      <td>5.628829</td>\n",
              "      <td>3.436093</td>\n",
              "      <td>26.637485</td>\n",
              "      <td>19.733255</td>\n",
              "      <td>1554.911197</td>\n",
              "      <td>4.059474e+04</td>\n",
              "    </tr>\n",
              "    <tr>\n",
              "      <th>std</th>\n",
              "      <td>7.579740</td>\n",
              "      <td>108.875192</td>\n",
              "      <td>1.778316</td>\n",
              "      <td>0.881093</td>\n",
              "      <td>8.863001</td>\n",
              "      <td>8.987798</td>\n",
              "      <td>1441.855347</td>\n",
              "      <td>6.010910e+04</td>\n",
              "    </tr>\n",
              "    <tr>\n",
              "      <th>min</th>\n",
              "      <td>1990.000000</td>\n",
              "      <td>55.000000</td>\n",
              "      <td>0.000000</td>\n",
              "      <td>2.000000</td>\n",
              "      <td>12.000000</td>\n",
              "      <td>7.000000</td>\n",
              "      <td>2.000000</td>\n",
              "      <td>2.000000e+03</td>\n",
              "    </tr>\n",
              "    <tr>\n",
              "      <th>25%</th>\n",
              "      <td>2007.000000</td>\n",
              "      <td>170.000000</td>\n",
              "      <td>4.000000</td>\n",
              "      <td>2.000000</td>\n",
              "      <td>22.000000</td>\n",
              "      <td>16.000000</td>\n",
              "      <td>549.000000</td>\n",
              "      <td>2.100000e+04</td>\n",
              "    </tr>\n",
              "    <tr>\n",
              "      <th>50%</th>\n",
              "      <td>2015.000000</td>\n",
              "      <td>227.000000</td>\n",
              "      <td>6.000000</td>\n",
              "      <td>4.000000</td>\n",
              "      <td>26.000000</td>\n",
              "      <td>18.000000</td>\n",
              "      <td>1385.000000</td>\n",
              "      <td>2.999500e+04</td>\n",
              "    </tr>\n",
              "    <tr>\n",
              "      <th>75%</th>\n",
              "      <td>2016.000000</td>\n",
              "      <td>300.000000</td>\n",
              "      <td>6.000000</td>\n",
              "      <td>4.000000</td>\n",
              "      <td>30.000000</td>\n",
              "      <td>22.000000</td>\n",
              "      <td>2009.000000</td>\n",
              "      <td>4.223125e+04</td>\n",
              "    </tr>\n",
              "    <tr>\n",
              "      <th>max</th>\n",
              "      <td>2017.000000</td>\n",
              "      <td>1001.000000</td>\n",
              "      <td>16.000000</td>\n",
              "      <td>4.000000</td>\n",
              "      <td>354.000000</td>\n",
              "      <td>137.000000</td>\n",
              "      <td>5657.000000</td>\n",
              "      <td>2.065902e+06</td>\n",
              "    </tr>\n",
              "  </tbody>\n",
              "</table>\n",
              "</div>"
            ],
            "text/plain": [
              "               Year            HP  ...    Popularity         Price\n",
              "count  11914.000000  11914.000000  ...  11914.000000  1.191400e+04\n",
              "mean    2010.384338    249.386070  ...   1554.911197  4.059474e+04\n",
              "std        7.579740    108.875192  ...   1441.855347  6.010910e+04\n",
              "min     1990.000000     55.000000  ...      2.000000  2.000000e+03\n",
              "25%     2007.000000    170.000000  ...    549.000000  2.100000e+04\n",
              "50%     2015.000000    227.000000  ...   1385.000000  2.999500e+04\n",
              "75%     2016.000000    300.000000  ...   2009.000000  4.223125e+04\n",
              "max     2017.000000   1001.000000  ...   5657.000000  2.065902e+06\n",
              "\n",
              "[8 rows x 8 columns]"
            ]
          },
          "metadata": {
            "tags": []
          },
          "execution_count": 213
        }
      ]
    },
    {
      "cell_type": "markdown",
      "metadata": {
        "id": "sgkAUXeK_1lo",
        "colab_type": "text"
      },
      "source": [
        "The features 'Engine Cylinders', 'No. of doors' has very low Standard Deviation and hence there is no much range of values for them . That means they do not affect the MSRP majorly. \n"
      ]
    },
    {
      "cell_type": "code",
      "metadata": {
        "id": "Tx8OZd08Axev",
        "colab_type": "code",
        "colab": {
          "base_uri": "https://localhost:8080/",
          "height": 0
        },
        "outputId": "c42e18da-5db8-473b-ecf0-1891882e693a"
      },
      "source": [
        "#Dropping the less significant features\n",
        "df.drop(['Engine Cylinders','Number of Doors','Engine Fuel Type'], axis=1, inplace=True)\n",
        "df.head()"
      ],
      "execution_count": 214,
      "outputs": [
        {
          "output_type": "execute_result",
          "data": {
            "text/html": [
              "<div>\n",
              "<style scoped>\n",
              "    .dataframe tbody tr th:only-of-type {\n",
              "        vertical-align: middle;\n",
              "    }\n",
              "\n",
              "    .dataframe tbody tr th {\n",
              "        vertical-align: top;\n",
              "    }\n",
              "\n",
              "    .dataframe thead th {\n",
              "        text-align: right;\n",
              "    }\n",
              "</style>\n",
              "<table border=\"1\" class=\"dataframe\">\n",
              "  <thead>\n",
              "    <tr style=\"text-align: right;\">\n",
              "      <th></th>\n",
              "      <th>Make</th>\n",
              "      <th>Model</th>\n",
              "      <th>Year</th>\n",
              "      <th>HP</th>\n",
              "      <th>Vehicle Size</th>\n",
              "      <th>Vehicle Style</th>\n",
              "      <th>MPG-H</th>\n",
              "      <th>MPG-C</th>\n",
              "      <th>Popularity</th>\n",
              "      <th>Price</th>\n",
              "    </tr>\n",
              "  </thead>\n",
              "  <tbody>\n",
              "    <tr>\n",
              "      <th>0</th>\n",
              "      <td>BMW</td>\n",
              "      <td>1 Series M</td>\n",
              "      <td>2011</td>\n",
              "      <td>335.0</td>\n",
              "      <td>Compact</td>\n",
              "      <td>Coupe</td>\n",
              "      <td>26</td>\n",
              "      <td>19</td>\n",
              "      <td>3916</td>\n",
              "      <td>46135</td>\n",
              "    </tr>\n",
              "    <tr>\n",
              "      <th>1</th>\n",
              "      <td>BMW</td>\n",
              "      <td>1 Series</td>\n",
              "      <td>2011</td>\n",
              "      <td>300.0</td>\n",
              "      <td>Compact</td>\n",
              "      <td>Convertible</td>\n",
              "      <td>28</td>\n",
              "      <td>19</td>\n",
              "      <td>3916</td>\n",
              "      <td>40650</td>\n",
              "    </tr>\n",
              "    <tr>\n",
              "      <th>2</th>\n",
              "      <td>BMW</td>\n",
              "      <td>1 Series</td>\n",
              "      <td>2011</td>\n",
              "      <td>300.0</td>\n",
              "      <td>Compact</td>\n",
              "      <td>Coupe</td>\n",
              "      <td>28</td>\n",
              "      <td>20</td>\n",
              "      <td>3916</td>\n",
              "      <td>36350</td>\n",
              "    </tr>\n",
              "    <tr>\n",
              "      <th>3</th>\n",
              "      <td>BMW</td>\n",
              "      <td>1 Series</td>\n",
              "      <td>2011</td>\n",
              "      <td>230.0</td>\n",
              "      <td>Compact</td>\n",
              "      <td>Coupe</td>\n",
              "      <td>28</td>\n",
              "      <td>18</td>\n",
              "      <td>3916</td>\n",
              "      <td>29450</td>\n",
              "    </tr>\n",
              "    <tr>\n",
              "      <th>4</th>\n",
              "      <td>BMW</td>\n",
              "      <td>1 Series</td>\n",
              "      <td>2011</td>\n",
              "      <td>230.0</td>\n",
              "      <td>Compact</td>\n",
              "      <td>Convertible</td>\n",
              "      <td>28</td>\n",
              "      <td>18</td>\n",
              "      <td>3916</td>\n",
              "      <td>34500</td>\n",
              "    </tr>\n",
              "  </tbody>\n",
              "</table>\n",
              "</div>"
            ],
            "text/plain": [
              "  Make       Model  Year     HP  ... MPG-H MPG-C  Popularity  Price\n",
              "0  BMW  1 Series M  2011  335.0  ...    26    19        3916  46135\n",
              "1  BMW    1 Series  2011  300.0  ...    28    19        3916  40650\n",
              "2  BMW    1 Series  2011  300.0  ...    28    20        3916  36350\n",
              "3  BMW    1 Series  2011  230.0  ...    28    18        3916  29450\n",
              "4  BMW    1 Series  2011  230.0  ...    28    18        3916  34500\n",
              "\n",
              "[5 rows x 10 columns]"
            ]
          },
          "metadata": {
            "tags": []
          },
          "execution_count": 214
        }
      ]
    },
    {
      "cell_type": "code",
      "metadata": {
        "id": "Q0vi0F7F95v6",
        "colab_type": "code",
        "colab": {
          "base_uri": "https://localhost:8080/",
          "height": 0
        },
        "outputId": "3356bf38-9b47-4190-867f-66562601d512"
      },
      "source": [
        "df.shape"
      ],
      "execution_count": 215,
      "outputs": [
        {
          "output_type": "execute_result",
          "data": {
            "text/plain": [
              "(11914, 10)"
            ]
          },
          "metadata": {
            "tags": []
          },
          "execution_count": 215
        }
      ]
    },
    {
      "cell_type": "code",
      "metadata": {
        "id": "Ut14aozVr61S",
        "colab_type": "code",
        "colab": {}
      },
      "source": [
        "#Finding duplicate values\n",
        "duplicate_rows_df=df[df.duplicated()]"
      ],
      "execution_count": 216,
      "outputs": []
    },
    {
      "cell_type": "code",
      "metadata": {
        "id": "tXbu0E_g-WnI",
        "colab_type": "code",
        "colab": {
          "base_uri": "https://localhost:8080/",
          "height": 0
        },
        "outputId": "00fe3056-23dc-443c-d03e-780323172d52"
      },
      "source": [
        "#Dropping the duplicate rows\n",
        "df=df.drop_duplicates()\n",
        "df.shape"
      ],
      "execution_count": 217,
      "outputs": [
        {
          "output_type": "execute_result",
          "data": {
            "text/plain": [
              "(11092, 10)"
            ]
          },
          "metadata": {
            "tags": []
          },
          "execution_count": 217
        }
      ]
    },
    {
      "cell_type": "markdown",
      "metadata": {
        "id": "uxzAuSbdIxhf",
        "colab_type": "text"
      },
      "source": [
        "As ypu can see the no. of rows has decreased .This shows that the duplicate rows has been dropped."
      ]
    },
    {
      "cell_type": "markdown",
      "metadata": {
        "id": "Shl1lBfGYCUn",
        "colab_type": "text"
      },
      "source": [
        "# **Step 5**:Checking outliers by plotting graphs and removing those data points from the dataset."
      ]
    },
    {
      "cell_type": "markdown",
      "metadata": {
        "id": "JrRppB8lMFY3",
        "colab_type": "text"
      },
      "source": [
        "\n",
        "\n",
        "*   Outliers are extreme values that deviate from other observations on data\n",
        "*   They have either very high or very low values.\n",
        "\n",
        "*   Hence the the main reason of less effective model.\n",
        "*   So, it is advised to remove the outliers from our dataset.\n",
        "\n",
        "\n",
        "*   They can be visualized using boxplot. \n",
        "*   Values outside the box are outliers.\n",
        "\n",
        "They can be removed by IQR(Inter-Quartile Range) method.\n",
        "\n",
        "\n",
        "\n",
        "\n",
        "\n"
      ]
    },
    {
      "cell_type": "code",
      "metadata": {
        "id": "ZGSUT6FmyCt9",
        "colab_type": "code",
        "colab": {
          "base_uri": "https://localhost:8080/",
          "height": 0
        },
        "outputId": "260f287b-cbc1-41c9-c240-556dfb11ff0b"
      },
      "source": [
        "#Detecting outliers for Price. \n",
        "sns.boxplot(x=df['Price'])"
      ],
      "execution_count": 218,
      "outputs": [
        {
          "output_type": "execute_result",
          "data": {
            "text/plain": [
              "<matplotlib.axes._subplots.AxesSubplot at 0x7f2b71168160>"
            ]
          },
          "metadata": {
            "tags": []
          },
          "execution_count": 218
        },
        {
          "output_type": "display_data",
          "data": {
            "image/png": "[encoded data removed]",
            "text/plain": [
              "<Figure size 432x288 with 1 Axes>"
            ]
          },
          "metadata": {
            "tags": [],
            "needs_background": "light"
          }
        }
      ]
    },
    {
      "cell_type": "code",
      "metadata": {
        "id": "YDDHeLcj40Gu",
        "colab_type": "code",
        "colab": {
          "base_uri": "https://localhost:8080/",
          "height": 0
        },
        "outputId": "1b64e3f0-ef51-4b00-9cb1-8e15fcfee0a9"
      },
      "source": [
        "#Detecting outliers for HP.\n",
        "sns.boxplot(x=df['HP'])"
      ],
      "execution_count": 219,
      "outputs": [
        {
          "output_type": "execute_result",
          "data": {
            "text/plain": [
              "<matplotlib.axes._subplots.AxesSubplot at 0x7f2b7118a748>"
            ]
          },
          "metadata": {
            "tags": []
          },
          "execution_count": 219
        },
        {
          "output_type": "display_data",
          "data": {
            "image/png": "[encoded data removed]",
            "text/plain": [
              "<Figure size 432x288 with 1 Axes>"
            ]
          },
          "metadata": {
            "tags": [],
            "needs_background": "light"
          }
        }
      ]
    },
    {
      "cell_type": "code",
      "metadata": {
        "id": "FFLYJjD541Up",
        "colab_type": "code",
        "colab": {
          "base_uri": "https://localhost:8080/",
          "height": 0
        },
        "outputId": "e863a89e-cb76-47bb-939d-c39f6043ada9"
      },
      "source": [
        "#Detecting outliers for MPG-H.\n",
        "sns.boxplot(x=df['MPG-H'])"
      ],
      "execution_count": 220,
      "outputs": [
        {
          "output_type": "execute_result",
          "data": {
            "text/plain": [
              "<matplotlib.axes._subplots.AxesSubplot at 0x7f2b6f56c828>"
            ]
          },
          "metadata": {
            "tags": []
          },
          "execution_count": 220
        },
        {
          "output_type": "display_data",
          "data": {
            "image/png": "[encoded data removed]",
            "text/plain": [
              "<Figure size 432x288 with 1 Axes>"
            ]
          },
          "metadata": {
            "tags": [],
            "needs_background": "light"
          }
        }
      ]
    },
    {
      "cell_type": "code",
      "metadata": {
        "id": "flZucGhc42R0",
        "colab_type": "code",
        "colab": {
          "base_uri": "https://localhost:8080/",
          "height": 0
        },
        "outputId": "b9257bc9-597c-445f-ea3a-baf07423b6c5"
      },
      "source": [
        "#Detecting outliers for MPG-C.\n",
        "sns.boxplot(x=df['MPG-C'])"
      ],
      "execution_count": 221,
      "outputs": [
        {
          "output_type": "execute_result",
          "data": {
            "text/plain": [
              "<matplotlib.axes._subplots.AxesSubplot at 0x7f2b702a4a58>"
            ]
          },
          "metadata": {
            "tags": []
          },
          "execution_count": 221
        },
        {
          "output_type": "display_data",
          "data": {
            "image/png": "[encoded data removed]",
            "text/plain": [
              "<Figure size 432x288 with 1 Axes>"
            ]
          },
          "metadata": {
            "tags": [],
            "needs_background": "light"
          }
        }
      ]
    },
    {
      "cell_type": "code",
      "metadata": {
        "id": "sKauqT72424i",
        "colab_type": "code",
        "colab": {
          "base_uri": "https://localhost:8080/",
          "height": 0
        },
        "outputId": "1a76683c-e878-45c0-d5ec-ecf54e9056e0"
      },
      "source": [
        "#Detecting outliers for Popularity.\n",
        "sns.boxplot(x=df['Popularity'])"
      ],
      "execution_count": 222,
      "outputs": [
        {
          "output_type": "execute_result",
          "data": {
            "text/plain": [
              "<matplotlib.axes._subplots.AxesSubplot at 0x7f2b6fb5b630>"
            ]
          },
          "metadata": {
            "tags": []
          },
          "execution_count": 222
        },
        {
          "output_type": "display_data",
          "data": {
            "image/png": "[encoded data removed]",
            "text/plain": [
              "<Figure size 432x288 with 1 Axes>"
            ]
          },
          "metadata": {
            "tags": [],
            "needs_background": "light"
          }
        }
      ]
    },
    {
      "cell_type": "code",
      "metadata": {
        "id": "7werppn5ybCH",
        "colab_type": "code",
        "colab": {
          "base_uri": "https://localhost:8080/",
          "height": 0
        },
        "outputId": "5079bd47-3f6b-430f-9a78-7cd30e76974d"
      },
      "source": [
        "#Finding the IQR\n",
        "Q1 = df.quantile(0.25)\n",
        "Q3 = df.quantile(0.75)\n",
        "IQR = Q3 - Q1\n",
        "print(IQR)"
      ],
      "execution_count": 223,
      "outputs": [
        {
          "output_type": "stream",
          "text": [
            "Year              9.00\n",
            "HP              130.00\n",
            "MPG-H             8.00\n",
            "MPG-C             6.00\n",
            "Popularity     1460.00\n",
            "Price         21393.75\n",
            "dtype: float64\n"
          ],
          "name": "stdout"
        }
      ]
    },
    {
      "cell_type": "code",
      "metadata": {
        "id": "aYfVGRDO32D1",
        "colab_type": "code",
        "colab": {}
      },
      "source": [
        "#Removing the outliers\n",
        "df = df[~((df < (Q1-2.5 * IQR)) |(df > (Q3+2.5 * IQR))).any(axis=1)]\n"
      ],
      "execution_count": 224,
      "outputs": []
    },
    {
      "cell_type": "code",
      "metadata": {
        "id": "tJ5Z_7Wy5WHb",
        "colab_type": "code",
        "colab": {
          "base_uri": "https://localhost:8080/",
          "height": 0
        },
        "outputId": "ae92fd47-3e5f-499c-ea77-2a3544faec3f"
      },
      "source": [
        "#Again ploting boxplot for all features to visualize that outliers has been removed.\n",
        "sns.boxplot(x=df['Price'])"
      ],
      "execution_count": 225,
      "outputs": [
        {
          "output_type": "execute_result",
          "data": {
            "text/plain": [
              "<matplotlib.axes._subplots.AxesSubplot at 0x7f2b70247860>"
            ]
          },
          "metadata": {
            "tags": []
          },
          "execution_count": 225
        },
        {
          "output_type": "display_data",
          "data": {
            "image/png": "[encoded data removed]",
            "text/plain": [
              "<Figure size 432x288 with 1 Axes>"
            ]
          },
          "metadata": {
            "tags": [],
            "needs_background": "light"
          }
        }
      ]
    },
    {
      "cell_type": "code",
      "metadata": {
        "id": "Tq6ELN4t5lYv",
        "colab_type": "code",
        "colab": {
          "base_uri": "https://localhost:8080/",
          "height": 0
        },
        "outputId": "287ab8d9-2b12-4663-f439-530faa0736e8"
      },
      "source": [
        "sns.boxplot(x=df['HP'])"
      ],
      "execution_count": 226,
      "outputs": [
        {
          "output_type": "execute_result",
          "data": {
            "text/plain": [
              "<matplotlib.axes._subplots.AxesSubplot at 0x7f2b70114e48>"
            ]
          },
          "metadata": {
            "tags": []
          },
          "execution_count": 226
        },
        {
          "output_type": "display_data",
          "data": {
            "image/png": "[encoded data removed]",
            "text/plain": [
              "<Figure size 432x288 with 1 Axes>"
            ]
          },
          "metadata": {
            "tags": [],
            "needs_background": "light"
          }
        }
      ]
    },
    {
      "cell_type": "code",
      "metadata": {
        "id": "KXcF-EDw5l-5",
        "colab_type": "code",
        "colab": {
          "base_uri": "https://localhost:8080/",
          "height": 0
        },
        "outputId": "49b372c4-ab71-4338-f973-7a0901408268"
      },
      "source": [
        "sns.boxplot(x=df['MPG-H'])"
      ],
      "execution_count": 227,
      "outputs": [
        {
          "output_type": "execute_result",
          "data": {
            "text/plain": [
              "<matplotlib.axes._subplots.AxesSubplot at 0x7f2b6f506710>"
            ]
          },
          "metadata": {
            "tags": []
          },
          "execution_count": 227
        },
        {
          "output_type": "display_data",
          "data": {
            "image/png": "[encoded data removed]",
            "text/plain": [
              "<Figure size 432x288 with 1 Axes>"
            ]
          },
          "metadata": {
            "tags": [],
            "needs_background": "light"
          }
        }
      ]
    },
    {
      "cell_type": "code",
      "metadata": {
        "id": "bDOURJSl5pcb",
        "colab_type": "code",
        "colab": {
          "base_uri": "https://localhost:8080/",
          "height": 0
        },
        "outputId": "6498b662-a97b-421c-91b3-eb1daeb21f35"
      },
      "source": [
        "sns.boxplot(x=df['MPG-C'])"
      ],
      "execution_count": 228,
      "outputs": [
        {
          "output_type": "execute_result",
          "data": {
            "text/plain": [
              "<matplotlib.axes._subplots.AxesSubplot at 0x7f2b70465898>"
            ]
          },
          "metadata": {
            "tags": []
          },
          "execution_count": 228
        },
        {
          "output_type": "display_data",
          "data": {
            "image/png": "[encoded data removed]",
            "text/plain": [
              "<Figure size 432x288 with 1 Axes>"
            ]
          },
          "metadata": {
            "tags": [],
            "needs_background": "light"
          }
        }
      ]
    },
    {
      "cell_type": "code",
      "metadata": {
        "id": "lJTYVIfy5pxy",
        "colab_type": "code",
        "colab": {
          "base_uri": "https://localhost:8080/",
          "height": 0
        },
        "outputId": "51b94b62-0be6-4486-8edf-1da2b4394dd6"
      },
      "source": [
        "sns.boxplot(x=df['Popularity'])"
      ],
      "execution_count": 229,
      "outputs": [
        {
          "output_type": "execute_result",
          "data": {
            "text/plain": [
              "<matplotlib.axes._subplots.AxesSubplot at 0x7f2b7021ebe0>"
            ]
          },
          "metadata": {
            "tags": []
          },
          "execution_count": 229
        },
        {
          "output_type": "display_data",
          "data": {
            "image/png": "[encoded data removed]",
            "text/plain": [
              "<Figure size 432x288 with 1 Axes>"
            ]
          },
          "metadata": {
            "tags": [],
            "needs_background": "light"
          }
        }
      ]
    },
    {
      "cell_type": "markdown",
      "metadata": {
        "id": "-M0D76uZYhlR",
        "colab_type": "text"
      },
      "source": [
        "# **Step 6**:Finding the most represented car brands in the dataset and finding the average price among the top 10 car brands.\n"
      ]
    },
    {
      "cell_type": "code",
      "metadata": {
        "id": "FRwTtsOOBvKG",
        "colab_type": "code",
        "colab": {
          "base_uri": "https://localhost:8080/",
          "height": 0
        },
        "outputId": "cf900a6c-afff-4a0f-ea73-1aace912d730"
      },
      "source": [
        "#No. of occurences of each brand car \n",
        "df['Make'].value_counts()"
      ],
      "execution_count": 230,
      "outputs": [
        {
          "output_type": "execute_result",
          "data": {
            "text/plain": [
              "Chevrolet        1051\n",
              "Ford              794\n",
              "Toyota            589\n",
              "Volkswagen        551\n",
              "Nissan            532\n",
              "Dodge             507\n",
              "GMC               482\n",
              "Mazda             410\n",
              "Honda             405\n",
              "Cadillac          389\n",
              "Suzuki            332\n",
              "Infiniti          328\n",
              "Audi              284\n",
              "BMW               280\n",
              "Volvo             266\n",
              "Hyundai           255\n",
              "Mercedes-Benz     252\n",
              "Acura             243\n",
              "Subaru            238\n",
              "Kia               222\n",
              "Mitsubishi        204\n",
              "Lexus             192\n",
              "Buick             190\n",
              "Chrysler          187\n",
              "Pontiac           179\n",
              "Lincoln           151\n",
              "Oldsmobile        131\n",
              "Saab              109\n",
              "Land Rover        107\n",
              "Plymouth           71\n",
              "Porsche            66\n",
              "Scion              60\n",
              "FIAT               59\n",
              "Lotus              28\n",
              "Maserati           22\n",
              "HUMMER             17\n",
              "Alfa Romeo          5\n",
              "Genesis             3\n",
              "Name: Make, dtype: int64"
            ]
          },
          "metadata": {
            "tags": []
          },
          "execution_count": 230
        }
      ]
    },
    {
      "cell_type": "markdown",
      "metadata": {
        "id": "jLb9-yK9_ga4",
        "colab_type": "text"
      },
      "source": [
        "The car brands that are the most represented in the dataset are = ['Chevrolet','Ford','Toyota','Volkswagen','Nissan','Dodge','GMC','Mazda','Honda','Cadillac']"
      ]
    },
    {
      "cell_type": "code",
      "metadata": {
        "id": "-lGo5nRd0-C-",
        "colab_type": "code",
        "colab": {
          "base_uri": "https://localhost:8080/",
          "height": 0
        },
        "outputId": "1af29bcd-c9d7-4beb-f774-72dfa4ab4fa4"
      },
      "source": [
        "#Determining the top car brands\n",
        "popular=df['Make'].value_counts()*100/sum(df['Make'].value_counts())\n",
        "popular_brands=popular.index[:10]\n",
        "\n",
        "#Visualising\n",
        "plt.barh(popular_brands,  width=popular[:10])\n",
        "plt.title('Top 10 car brands')\n",
        "plt.show()"
      ],
      "execution_count": 231,
      "outputs": [
        {
          "output_type": "display_data",
          "data": {
            "image/png": "[encoded data removed]",
            "text/plain": [
              "<Figure size 432x288 with 1 Axes>"
            ]
          },
          "metadata": {
            "tags": [],
            "needs_background": "light"
          }
        }
      ]
    },
    {
      "cell_type": "code",
      "metadata": {
        "id": "kkG4ToekDn6k",
        "colab_type": "code",
        "colab": {
          "base_uri": "https://localhost:8080/",
          "height": 0
        },
        "outputId": "3ccaeda0-65a6-48be-843c-5377d7ecc3b7"
      },
      "source": [
        "#average of price for the top 10 car brand \n",
        "df[['Make','Price']].loc[(df['Make']=='Chevrolet')|(df['Make']=='Ford')|(df['Make']=='Toyota')|(df['Make']=='Volkswagen')|(df['Make']=='Nissan')|(df['Make']=='Dodge')|(df['Make']=='GMC')|(df['Make']=='Mazda')|(df['Make']=='Honda')|(df['Make']=='Cadillac')].groupby('Make').Price.mean()"
      ],
      "execution_count": 232,
      "outputs": [
        {
          "output_type": "execute_result",
          "data": {
            "text/plain": [
              "Make\n",
              "Cadillac      55662.089974\n",
              "Chevrolet     28097.471931\n",
              "Dodge         22183.928994\n",
              "Ford          28044.942065\n",
              "GMC           32444.085062\n",
              "Honda         26614.503704\n",
              "Mazda         20506.460976\n",
              "Nissan        27493.468045\n",
              "Toyota        27583.076401\n",
              "Volkswagen    28560.782214\n",
              "Name: Price, dtype: float64"
            ]
          },
          "metadata": {
            "tags": []
          },
          "execution_count": 232
        }
      ]
    },
    {
      "cell_type": "markdown",
      "metadata": {
        "id": "79C8OfMtO7rV",
        "colab_type": "text"
      },
      "source": [
        "We can see that among the top 10 represented car brands :  \n",
        "\n",
        "*   Cadillac has the highest average price.\n",
        "*   Volkswagen has the lowest average price.\n",
        "\n"
      ]
    },
    {
      "cell_type": "markdown",
      "metadata": {
        "id": "bVuomMsEYrq0",
        "colab_type": "text"
      },
      "source": [
        "# **Step 7**: Ploting the correlation matrix.\n"
      ]
    },
    {
      "cell_type": "code",
      "metadata": {
        "id": "f-VarHtSRRiU",
        "colab_type": "code",
        "colab": {
          "base_uri": "https://localhost:8080/",
          "height": 0
        },
        "outputId": "506abd7d-4341-463b-9691-c64677dde421"
      },
      "source": [
        "#Correlation matrix\n",
        "df.corr()"
      ],
      "execution_count": 233,
      "outputs": [
        {
          "output_type": "execute_result",
          "data": {
            "text/html": [
              "<div>\n",
              "<style scoped>\n",
              "    .dataframe tbody tr th:only-of-type {\n",
              "        vertical-align: middle;\n",
              "    }\n",
              "\n",
              "    .dataframe tbody tr th {\n",
              "        vertical-align: top;\n",
              "    }\n",
              "\n",
              "    .dataframe thead th {\n",
              "        text-align: right;\n",
              "    }\n",
              "</style>\n",
              "<table border=\"1\" class=\"dataframe\">\n",
              "  <thead>\n",
              "    <tr style=\"text-align: right;\">\n",
              "      <th></th>\n",
              "      <th>Year</th>\n",
              "      <th>HP</th>\n",
              "      <th>MPG-H</th>\n",
              "      <th>MPG-C</th>\n",
              "      <th>Popularity</th>\n",
              "      <th>Price</th>\n",
              "    </tr>\n",
              "  </thead>\n",
              "  <tbody>\n",
              "    <tr>\n",
              "      <th>Year</th>\n",
              "      <td>1.000000</td>\n",
              "      <td>0.384512</td>\n",
              "      <td>0.337638</td>\n",
              "      <td>0.292546</td>\n",
              "      <td>0.090744</td>\n",
              "      <td>0.621082</td>\n",
              "    </tr>\n",
              "    <tr>\n",
              "      <th>HP</th>\n",
              "      <td>0.384512</td>\n",
              "      <td>1.000000</td>\n",
              "      <td>-0.440570</td>\n",
              "      <td>-0.530671</td>\n",
              "      <td>0.102368</td>\n",
              "      <td>0.761853</td>\n",
              "    </tr>\n",
              "    <tr>\n",
              "      <th>MPG-H</th>\n",
              "      <td>0.337638</td>\n",
              "      <td>-0.440570</td>\n",
              "      <td>1.000000</td>\n",
              "      <td>0.932330</td>\n",
              "      <td>-0.076333</td>\n",
              "      <td>-0.106747</td>\n",
              "    </tr>\n",
              "    <tr>\n",
              "      <th>MPG-C</th>\n",
              "      <td>0.292546</td>\n",
              "      <td>-0.530671</td>\n",
              "      <td>0.932330</td>\n",
              "      <td>1.000000</td>\n",
              "      <td>-0.072252</td>\n",
              "      <td>-0.175362</td>\n",
              "    </tr>\n",
              "    <tr>\n",
              "      <th>Popularity</th>\n",
              "      <td>0.090744</td>\n",
              "      <td>0.102368</td>\n",
              "      <td>-0.076333</td>\n",
              "      <td>-0.072252</td>\n",
              "      <td>1.000000</td>\n",
              "      <td>0.045951</td>\n",
              "    </tr>\n",
              "    <tr>\n",
              "      <th>Price</th>\n",
              "      <td>0.621082</td>\n",
              "      <td>0.761853</td>\n",
              "      <td>-0.106747</td>\n",
              "      <td>-0.175362</td>\n",
              "      <td>0.045951</td>\n",
              "      <td>1.000000</td>\n",
              "    </tr>\n",
              "  </tbody>\n",
              "</table>\n",
              "</div>"
            ],
            "text/plain": [
              "                Year        HP     MPG-H     MPG-C  Popularity     Price\n",
              "Year        1.000000  0.384512  0.337638  0.292546    0.090744  0.621082\n",
              "HP          0.384512  1.000000 -0.440570 -0.530671    0.102368  0.761853\n",
              "MPG-H       0.337638 -0.440570  1.000000  0.932330   -0.076333 -0.106747\n",
              "MPG-C       0.292546 -0.530671  0.932330  1.000000   -0.072252 -0.175362\n",
              "Popularity  0.090744  0.102368 -0.076333 -0.072252    1.000000  0.045951\n",
              "Price       0.621082  0.761853 -0.106747 -0.175362    0.045951  1.000000"
            ]
          },
          "metadata": {
            "tags": []
          },
          "execution_count": 233
        }
      ]
    },
    {
      "cell_type": "code",
      "metadata": {
        "id": "8eUtRUBoERQD",
        "colab_type": "code",
        "colab": {
          "base_uri": "https://localhost:8080/",
          "height": 0
        },
        "outputId": "df11c83e-5512-49bb-fb9d-39825fa730a9"
      },
      "source": [
        "#Plotting the correlation matrix using heatmap(Less precise values than just df.corr())\n",
        "plt.figure(figsize=(10,5))\n",
        "c= df.corr()\n",
        "sns.heatmap(c,cmap=\"BrBG\",annot=True)"
      ],
      "execution_count": 234,
      "outputs": [
        {
          "output_type": "execute_result",
          "data": {
            "text/plain": [
              "<matplotlib.axes._subplots.AxesSubplot at 0x7f2b70a4cc18>"
            ]
          },
          "metadata": {
            "tags": []
          },
          "execution_count": 234
        },
        {
          "output_type": "display_data",
          "data": {
            "image/png": "[encoded data removed]",
            "text/plain": [
              "<Figure size 720x360 with 2 Axes>"
            ]
          },
          "metadata": {
            "tags": [],
            "needs_background": "light"
          }
        }
      ]
    },
    {
      "cell_type": "markdown",
      "metadata": {
        "id": "VqNRIXcA6yTr",
        "colab_type": "text"
      },
      "source": [
        "Correlation with 'Price':\n",
        "\n",
        "*   Year : 0.62  (Positive corelation)\n",
        "*   HP : 0.72 (Positive corelation)\n",
        "*   MPG-H : -0.11 (Negative corelation)\n",
        "*   MPG-C : -0.18 (Negative corelation)\n",
        "*   Popularity : 0.046 (Positive corelation)\n",
        "\n",
        "---\n",
        "\n",
        "Conclusion :\n",
        "1.   HP has the hightest correlation with Price. Hence it will affect Price the most.\n",
        "2.   Popularity has the lowest correlation with Price. Hence its effect on Price prediction will be less but still it cannot be ignored.\n",
        "\n",
        "*   MPG-H and MPG-C has negavtive correlation that means there one's change will be compliment to other's change.\n",
        "\n",
        "*   MPG-H and MPG-C has strong correlation among them as well.\n",
        "\n",
        "\n",
        "\n",
        "\n",
        "\n",
        "\n",
        "\n",
        "\n",
        "\n",
        "\n"
      ]
    },
    {
      "cell_type": "markdown",
      "metadata": {
        "id": "6K81yl3bY7Mi",
        "colab_type": "text"
      },
      "source": [
        "# **Step 8**:Performing EDA and ploting different graphs."
      ]
    },
    {
      "cell_type": "markdown",
      "metadata": {
        "id": "RiXD1oY4TuvA",
        "colab_type": "text"
      },
      "source": [
        "## **Scatter plots**\n",
        "Scatter plot is used to visualize correlation between two variables."
      ]
    },
    {
      "cell_type": "code",
      "metadata": {
        "id": "5vDvByP5FgIM",
        "colab_type": "code",
        "colab": {
          "base_uri": "https://localhost:8080/",
          "height": 0
        },
        "outputId": "333aad21-4f6d-49a4-c042-16eb573a6b8f"
      },
      "source": [
        "#Relational scatter plot between Price and HP\n",
        "plt.scatter(df['HP'], df['Price'])\n",
        "plt.title('Scatter plot between Price and HP')\n",
        "plt.xlabel('HP')\n",
        "plt.ylabel('Price')\n",
        "plt.show()"
      ],
      "execution_count": 235,
      "outputs": [
        {
          "output_type": "display_data",
          "data": {
            "image/png": "[encoded data removed]",
            "text/plain": [
              "<Figure size 432x288 with 1 Axes>"
            ]
          },
          "metadata": {
            "tags": [],
            "needs_background": "light"
          }
        }
      ]
    },
    {
      "cell_type": "code",
      "metadata": {
        "id": "Br-eDF749K1r",
        "colab_type": "code",
        "colab": {
          "base_uri": "https://localhost:8080/",
          "height": 0
        },
        "outputId": "6be34ea3-6130-4b5b-c02b-8c6171ad96bb"
      },
      "source": [
        "#Relational scatter plot between Price and Year\n",
        "plt.scatter(df['Year'], df['Price'])\n",
        "plt.title('Scatter plot between Price and Year')\n",
        "plt.xlabel('Year')\n",
        "plt.ylabel('Price')\n",
        "plt.show()"
      ],
      "execution_count": 236,
      "outputs": [
        {
          "output_type": "display_data",
          "data": {
            "image/png": "[encoded data removed]",
            "text/plain": [
              "<Figure size 432x288 with 1 Axes>"
            ]
          },
          "metadata": {
            "tags": [],
            "needs_background": "light"
          }
        }
      ]
    },
    {
      "cell_type": "code",
      "metadata": {
        "id": "Y7V2Plq7Ycmz",
        "colab_type": "code",
        "colab": {
          "base_uri": "https://localhost:8080/",
          "height": 0
        },
        "outputId": "8a39c7d8-891a-434c-ddba-88e4db49b5f2"
      },
      "source": [
        "#Realtional scatter plot between MPG-C and MPG-H\n",
        "plt.scatter(df['MPG-H'], df['MPG-C'])\n",
        "plt.title('Scatter plot between MPG-C and MPG-H')\n",
        "plt.xlabel('MPG-H')\n",
        "plt.ylabel('MPG-C')\n",
        "plt.show()"
      ],
      "execution_count": 237,
      "outputs": [
        {
          "output_type": "display_data",
          "data": {
            "image/png": "[encoded data removed]",
            "text/plain": [
              "<Figure size 432x288 with 1 Axes>"
            ]
          },
          "metadata": {
            "tags": [],
            "needs_background": "light"
          }
        }
      ]
    },
    {
      "cell_type": "markdown",
      "metadata": {
        "id": "MkGpTnIgZCfB",
        "colab_type": "text"
      },
      "source": [
        "As you can see from above scatter plots,[ (Price and HP) ; (Price and Year) ; (MPG-H and MPG-C) ] has linear trend."
      ]
    },
    {
      "cell_type": "markdown",
      "metadata": {
        "id": "RATv8RQjy63H",
        "colab_type": "text"
      },
      "source": [
        "## **Bar graphs and Histograms**"
      ]
    },
    {
      "cell_type": "code",
      "metadata": {
        "id": "Ts0l_dfsueAX",
        "colab_type": "code",
        "colab": {
          "base_uri": "https://localhost:8080/",
          "height": 0
        },
        "outputId": "a021b061-eaf3-4a76-a469-9ddf71957ef7"
      },
      "source": [
        "df[['Year','MPG-H','MPG-C','HP','Popularity','Price']].hist(figsize=(10,8),bins=6,color='B')\n",
        "plt.tight_layout()\n",
        "plt.show()"
      ],
      "execution_count": 238,
      "outputs": [
        {
          "output_type": "display_data",
          "data": {
            "image/png": "[encoded data removed]",
            "text/plain": [
              "<Figure size 720x576 with 6 Axes>"
            ]
          },
          "metadata": {
            "tags": [],
            "needs_background": "light"
          }
        }
      ]
    },
    {
      "cell_type": "markdown",
      "metadata": {
        "id": "F8ZKB5Ll0DJR",
        "colab_type": "text"
      },
      "source": [
        "**Findings** :\n",
        "\n",
        "*   Most cars has horsepower 150 to 225.\n",
        "*   Most cars has MPG-C values between 14-18.\n",
        "*   Most cars has MPG-H values between 23-29.\n",
        "*   Most cars are in the price range 19000 to 34000.\n",
        "*   There has been sudden rise in car selling in the years 2013-17.\n",
        "   \n",
        "\n",
        "\n",
        "\n"
      ]
    },
    {
      "cell_type": "code",
      "metadata": {
        "id": "7ee2Oaodv9U8",
        "colab_type": "code",
        "colab": {
          "base_uri": "https://localhost:8080/",
          "height": 0
        },
        "outputId": "33b4574c-d0ef-45c2-e13d-0d57727c79ee"
      },
      "source": [
        "df['Make'].value_counts(normalize=True).plot(figsize=(10,8),kind='bar',color='red')\n",
        "plt.title(\"Car Brand frequency diagram\")\n",
        "plt.ylabel('Number of cars sold of the brand')\n",
        "plt.xlabel('Brand')\n",
        "plt.show()"
      ],
      "execution_count": 239,
      "outputs": [
        {
          "output_type": "display_data",
          "data": {
            "image/png": "[encoded data removed]",
            "text/plain": [
              "<Figure size 720x576 with 1 Axes>"
            ]
          },
          "metadata": {
            "tags": [],
            "needs_background": "light"
          }
        }
      ]
    },
    {
      "cell_type": "markdown",
      "metadata": {
        "id": "nUXwJiqC2A02",
        "colab_type": "text"
      },
      "source": [
        "**Findings** :\n",
        "\n",
        "*   Chevrolet sold the most cars.\n",
        "*   Genesis sold the leat cars.\n",
        "\n"
      ]
    },
    {
      "cell_type": "code",
      "metadata": {
        "id": "OzPvdrcPxinq",
        "colab_type": "code",
        "colab": {
          "base_uri": "https://localhost:8080/",
          "height": 0
        },
        "outputId": "c539db44-4ced-45f0-8103-21f49ce096e2"
      },
      "source": [
        "df['Vehicle Size'].value_counts(normalize= True).plot(figsize=(10,8),kind='bar',color='purple')\n",
        "plt.title(\"Vehicle Size frequency diagram\")\n",
        "plt.ylabel('Number of cars of the size')\n",
        "plt.xlabel('Vehicle Size')\n",
        "plt.show()"
      ],
      "execution_count": 240,
      "outputs": [
        {
          "output_type": "display_data",
          "data": {
            "image/png": "[encoded data removed]",
            "text/plain": [
              "<Figure size 720x576 with 1 Axes>"
            ]
          },
          "metadata": {
            "tags": [],
            "needs_background": "light"
          }
        }
      ]
    },
    {
      "cell_type": "markdown",
      "metadata": {
        "id": "qAu0wDiX2dFM",
        "colab_type": "text"
      },
      "source": [
        "**Finding** :\n",
        "\n",
        "*   Compact and Midsize cars are more often sold than the cars having Large size.\n",
        "\n"
      ]
    },
    {
      "cell_type": "code",
      "metadata": {
        "id": "v-WzYvKbxnH1",
        "colab_type": "code",
        "colab": {
          "base_uri": "https://localhost:8080/",
          "height": 0
        },
        "outputId": "a9ca808f-f40d-436d-f200-e63339d8489d"
      },
      "source": [
        "df['Vehicle Style'].value_counts(normalize=True).plot(figsize=(10,8),kind='bar',color='orange')\n",
        "plt.title(\"Body Style frequency diagram\")\n",
        "plt.ylabel('Number of vehicles')\n",
        "plt.xlabel('Body style');"
      ],
      "execution_count": 241,
      "outputs": [
        {
          "output_type": "display_data",
          "data": {
            "image/png": "[encoded data removed]",
            "text/plain": [
              "<Figure size 720x576 with 1 Axes>"
            ]
          },
          "metadata": {
            "tags": [],
            "needs_background": "light"
          }
        }
      ]
    },
    {
      "cell_type": "markdown",
      "metadata": {
        "id": "X4pv4LsKTYBi",
        "colab_type": "text"
      },
      "source": [
        "**If compared by Vehicle Style** : \n",
        "\n",
        "*   Sedan cars are the most sold cars.\n",
        "*   Convertible SUV are the least sold cars.\n",
        "\n"
      ]
    },
    {
      "cell_type": "markdown",
      "metadata": {
        "id": "V2PyHWe8HQqr",
        "colab_type": "text"
      },
      "source": [
        "# **Step 9**:Spliting the dataset into 80 and 20 ratio and building a machine learning model with Price as the target variable"
      ]
    },
    {
      "cell_type": "markdown",
      "metadata": {
        "id": "PtD4fwHrRzZh",
        "colab_type": "text"
      },
      "source": [
        "Preprocessiong:\n",
        "\n",
        "*   The categorical data has to be changed to numeric value for the model to understand it .\n",
        "*   We have done it with a function called LabelEncoder.\n",
        "\n",
        "\n",
        "*   The data is also very diversified and scattered , so we need to scale it to a certain extent so that we dont miss any detail.\n",
        "*   We have done it with StandardScaler.\n",
        "\n",
        "\n",
        "---\n",
        "\n",
        "\n",
        "We have to split the data so that we can measure the effectivness / accuracy of the model.\n",
        "\n",
        "\n"
      ]
    },
    {
      "cell_type": "code",
      "metadata": {
        "id": "tgnPYSZqGkVH",
        "colab_type": "code",
        "colab": {}
      },
      "source": [
        "#Dividing our dataset in two parts: x=DATA , y= TARGET VARIABLE\n",
        "x=df.iloc[:,:-1]\n",
        "y=df.iloc[:,-1]"
      ],
      "execution_count": 242,
      "outputs": []
    },
    {
      "cell_type": "code",
      "metadata": {
        "id": "--kPjUe7EOuP",
        "colab_type": "code",
        "colab": {
          "base_uri": "https://localhost:8080/",
          "height": 0
        },
        "outputId": "2cc22ddb-f2b4-480d-8c4d-036280e373c3"
      },
      "source": [
        "print(x)\n",
        "print(y)"
      ],
      "execution_count": 243,
      "outputs": [
        {
          "output_type": "stream",
          "text": [
            "          Make       Model  Year  ...  MPG-H MPG-C Popularity\n",
            "0          BMW  1 Series M  2011  ...     26    19       3916\n",
            "1          BMW    1 Series  2011  ...     28    19       3916\n",
            "2          BMW    1 Series  2011  ...     28    20       3916\n",
            "3          BMW    1 Series  2011  ...     28    18       3916\n",
            "4          BMW    1 Series  2011  ...     28    18       3916\n",
            "...        ...         ...   ...  ...    ...   ...        ...\n",
            "11909    Acura         ZDX  2012  ...     23    16        204\n",
            "11910    Acura         ZDX  2012  ...     23    16        204\n",
            "11911    Acura         ZDX  2012  ...     23    16        204\n",
            "11912    Acura         ZDX  2013  ...     23    16        204\n",
            "11913  Lincoln      Zephyr  2006  ...     26    17         61\n",
            "\n",
            "[10191 rows x 9 columns]\n",
            "0        46135\n",
            "1        40650\n",
            "2        36350\n",
            "3        29450\n",
            "4        34500\n",
            "         ...  \n",
            "11909    46120\n",
            "11910    56670\n",
            "11911    50620\n",
            "11912    50920\n",
            "11913    28995\n",
            "Name: Price, Length: 10191, dtype: int64\n"
          ],
          "name": "stdout"
        }
      ]
    },
    {
      "cell_type": "code",
      "metadata": {
        "id": "oyaAkwg4ZKxJ",
        "colab_type": "code",
        "colab": {}
      },
      "source": [
        "#from sklearn.preprocessing import LabelEncoder\n",
        "#labelencoder = LabelEncoder()\n",
        "#x[:, 0] = labelencoder.fit_transform(x[:, 0])\n",
        "\n",
        "#I tried to do Label encoding using the above simple code but it gave me error so I learned a new method of encoding as follows."
      ],
      "execution_count": 244,
      "outputs": []
    },
    {
      "cell_type": "code",
      "metadata": {
        "id": "jQqzRsz7sKwB",
        "colab_type": "code",
        "colab": {}
      },
      "source": [
        "#Encoding the categorical data.\n",
        "from sklearn.preprocessing import LabelEncoder\n",
        "from sklearn.pipeline import Pipeline\n",
        "\n",
        "class MultiColumnLabelEncoder:\n",
        "    def __init__(self,columns = None):\n",
        "        self.columns = columns # array of column names to encode\n",
        "\n",
        "    def fit(self,X,y=None):\n",
        "        return self # not relevant here\n",
        "\n",
        "    def transform(self,X):\n",
        "        '''\n",
        "        Transforms columns of X specified in self.columns using\n",
        "        LabelEncoder(). If no columns specified, transforms all\n",
        "        columns in X.\n",
        "        '''\n",
        "        output = X.copy()\n",
        "        if self.columns is not None:\n",
        "            for col in self.columns:\n",
        "                output[col] = LabelEncoder().fit_transform(output[col])\n",
        "        else:\n",
        "            for colname,col in output.iteritems():\n",
        "                output[colname] = LabelEncoder().fit_transform(col)\n",
        "        return output"
      ],
      "execution_count": 245,
      "outputs": []
    },
    {
      "cell_type": "code",
      "metadata": {
        "id": "bmMA-OrjsPDd",
        "colab_type": "code",
        "colab": {}
      },
      "source": [
        "def fit_transform(self,X,y=None):\n",
        "        return self.fit(X,y).transform(X)"
      ],
      "execution_count": 246,
      "outputs": []
    },
    {
      "cell_type": "code",
      "metadata": {
        "id": "cOSeOk2esUR4",
        "colab_type": "code",
        "colab": {}
      },
      "source": [
        "x=MultiColumnLabelEncoder(columns = ['Make','Model','Vehicle Size','Vehicle Style']).transform(x)"
      ],
      "execution_count": 247,
      "outputs": []
    },
    {
      "cell_type": "code",
      "metadata": {
        "id": "8ZaD4yHFtpMf",
        "colab_type": "code",
        "colab": {
          "base_uri": "https://localhost:8080/",
          "height": 0
        },
        "outputId": "3147678a-70ce-47da-ea49-b608206f3a7c"
      },
      "source": [
        "#Displaying the result of our encoding\n",
        "x"
      ],
      "execution_count": 248,
      "outputs": [
        {
          "output_type": "execute_result",
          "data": {
            "text/html": [
              "<div>\n",
              "<style scoped>\n",
              "    .dataframe tbody tr th:only-of-type {\n",
              "        vertical-align: middle;\n",
              "    }\n",
              "\n",
              "    .dataframe tbody tr th {\n",
              "        vertical-align: top;\n",
              "    }\n",
              "\n",
              "    .dataframe thead th {\n",
              "        text-align: right;\n",
              "    }\n",
              "</style>\n",
              "<table border=\"1\" class=\"dataframe\">\n",
              "  <thead>\n",
              "    <tr style=\"text-align: right;\">\n",
              "      <th></th>\n",
              "      <th>Make</th>\n",
              "      <th>Model</th>\n",
              "      <th>Year</th>\n",
              "      <th>HP</th>\n",
              "      <th>Vehicle Size</th>\n",
              "      <th>Vehicle Style</th>\n",
              "      <th>MPG-H</th>\n",
              "      <th>MPG-C</th>\n",
              "      <th>Popularity</th>\n",
              "    </tr>\n",
              "  </thead>\n",
              "  <tbody>\n",
              "    <tr>\n",
              "      <th>0</th>\n",
              "      <td>3</td>\n",
              "      <td>1</td>\n",
              "      <td>2011</td>\n",
              "      <td>335.0</td>\n",
              "      <td>0</td>\n",
              "      <td>8</td>\n",
              "      <td>26</td>\n",
              "      <td>19</td>\n",
              "      <td>3916</td>\n",
              "    </tr>\n",
              "    <tr>\n",
              "      <th>1</th>\n",
              "      <td>3</td>\n",
              "      <td>0</td>\n",
              "      <td>2011</td>\n",
              "      <td>300.0</td>\n",
              "      <td>0</td>\n",
              "      <td>6</td>\n",
              "      <td>28</td>\n",
              "      <td>19</td>\n",
              "      <td>3916</td>\n",
              "    </tr>\n",
              "    <tr>\n",
              "      <th>2</th>\n",
              "      <td>3</td>\n",
              "      <td>0</td>\n",
              "      <td>2011</td>\n",
              "      <td>300.0</td>\n",
              "      <td>0</td>\n",
              "      <td>8</td>\n",
              "      <td>28</td>\n",
              "      <td>20</td>\n",
              "      <td>3916</td>\n",
              "    </tr>\n",
              "    <tr>\n",
              "      <th>3</th>\n",
              "      <td>3</td>\n",
              "      <td>0</td>\n",
              "      <td>2011</td>\n",
              "      <td>230.0</td>\n",
              "      <td>0</td>\n",
              "      <td>8</td>\n",
              "      <td>28</td>\n",
              "      <td>18</td>\n",
              "      <td>3916</td>\n",
              "    </tr>\n",
              "    <tr>\n",
              "      <th>4</th>\n",
              "      <td>3</td>\n",
              "      <td>0</td>\n",
              "      <td>2011</td>\n",
              "      <td>230.0</td>\n",
              "      <td>0</td>\n",
              "      <td>6</td>\n",
              "      <td>28</td>\n",
              "      <td>18</td>\n",
              "      <td>3916</td>\n",
              "    </tr>\n",
              "    <tr>\n",
              "      <th>...</th>\n",
              "      <td>...</td>\n",
              "      <td>...</td>\n",
              "      <td>...</td>\n",
              "      <td>...</td>\n",
              "      <td>...</td>\n",
              "      <td>...</td>\n",
              "      <td>...</td>\n",
              "      <td>...</td>\n",
              "      <td>...</td>\n",
              "    </tr>\n",
              "    <tr>\n",
              "      <th>11909</th>\n",
              "      <td>0</td>\n",
              "      <td>776</td>\n",
              "      <td>2012</td>\n",
              "      <td>300.0</td>\n",
              "      <td>2</td>\n",
              "      <td>2</td>\n",
              "      <td>23</td>\n",
              "      <td>16</td>\n",
              "      <td>204</td>\n",
              "    </tr>\n",
              "    <tr>\n",
              "      <th>11910</th>\n",
              "      <td>0</td>\n",
              "      <td>776</td>\n",
              "      <td>2012</td>\n",
              "      <td>300.0</td>\n",
              "      <td>2</td>\n",
              "      <td>2</td>\n",
              "      <td>23</td>\n",
              "      <td>16</td>\n",
              "      <td>204</td>\n",
              "    </tr>\n",
              "    <tr>\n",
              "      <th>11911</th>\n",
              "      <td>0</td>\n",
              "      <td>776</td>\n",
              "      <td>2012</td>\n",
              "      <td>300.0</td>\n",
              "      <td>2</td>\n",
              "      <td>2</td>\n",
              "      <td>23</td>\n",
              "      <td>16</td>\n",
              "      <td>204</td>\n",
              "    </tr>\n",
              "    <tr>\n",
              "      <th>11912</th>\n",
              "      <td>0</td>\n",
              "      <td>776</td>\n",
              "      <td>2013</td>\n",
              "      <td>300.0</td>\n",
              "      <td>2</td>\n",
              "      <td>2</td>\n",
              "      <td>23</td>\n",
              "      <td>16</td>\n",
              "      <td>204</td>\n",
              "    </tr>\n",
              "    <tr>\n",
              "      <th>11913</th>\n",
              "      <td>20</td>\n",
              "      <td>777</td>\n",
              "      <td>2006</td>\n",
              "      <td>221.0</td>\n",
              "      <td>2</td>\n",
              "      <td>14</td>\n",
              "      <td>26</td>\n",
              "      <td>17</td>\n",
              "      <td>61</td>\n",
              "    </tr>\n",
              "  </tbody>\n",
              "</table>\n",
              "<p>10191 rows × 9 columns</p>\n",
              "</div>"
            ],
            "text/plain": [
              "       Make  Model  Year     HP  ...  Vehicle Style  MPG-H  MPG-C  Popularity\n",
              "0         3      1  2011  335.0  ...              8     26     19        3916\n",
              "1         3      0  2011  300.0  ...              6     28     19        3916\n",
              "2         3      0  2011  300.0  ...              8     28     20        3916\n",
              "3         3      0  2011  230.0  ...              8     28     18        3916\n",
              "4         3      0  2011  230.0  ...              6     28     18        3916\n",
              "...     ...    ...   ...    ...  ...            ...    ...    ...         ...\n",
              "11909     0    776  2012  300.0  ...              2     23     16         204\n",
              "11910     0    776  2012  300.0  ...              2     23     16         204\n",
              "11911     0    776  2012  300.0  ...              2     23     16         204\n",
              "11912     0    776  2013  300.0  ...              2     23     16         204\n",
              "11913    20    777  2006  221.0  ...             14     26     17          61\n",
              "\n",
              "[10191 rows x 9 columns]"
            ]
          },
          "metadata": {
            "tags": []
          },
          "execution_count": 248
        }
      ]
    },
    {
      "cell_type": "markdown",
      "metadata": {
        "id": "bDkCHZp2URSl",
        "colab_type": "text"
      },
      "source": [
        "As you can see ,the categorical values have been converted to numeric encoded values."
      ]
    },
    {
      "cell_type": "code",
      "metadata": {
        "id": "U58hrEBdvIgW",
        "colab_type": "code",
        "colab": {}
      },
      "source": [
        "#Scaling the dataset\n",
        "from sklearn.preprocessing import StandardScaler\n",
        "sc_x=StandardScaler()\n",
        "x=sc_x.fit_transform(x)"
      ],
      "execution_count": 249,
      "outputs": []
    },
    {
      "cell_type": "code",
      "metadata": {
        "id": "cLJX3LRuFOrX",
        "colab_type": "code",
        "colab": {}
      },
      "source": [
        "#Splitting the dataset in 80:20(Training set : Test set) ratio.\n",
        "\n",
        "from sklearn.model_selection import train_test_split \n",
        "\n",
        "x_train,x_test,y_train,y_test=train_test_split(x,y,test_size=0.2,random_state=0)"
      ],
      "execution_count": 250,
      "outputs": []
    },
    {
      "cell_type": "markdown",
      "metadata": {
        "id": "YBH_ch63Zar9",
        "colab_type": "text"
      },
      "source": [
        "# **Step 10**:Trying different algorithms and checking their performance over metrics like R square, RMSE, MAE etc."
      ]
    },
    {
      "cell_type": "markdown",
      "metadata": {
        "id": "RGQReXZFU-st",
        "colab_type": "text"
      },
      "source": [
        "Below are the various models for predicting the target variable 'Price'. \n",
        "\n",
        "*   A scatter plot is given for every model to visualize the closeness of prediction of the y_test value v/s y_test.\n",
        "*   A distplot is also given just for conforming the assumption we made about Normal Distribution. \n",
        "\n",
        "\n",
        "*   R-square, RME,MAE values are calculated for every model to check the effectiveness the model.\n",
        "\n",
        "\n",
        "\n",
        "\n"
      ]
    },
    {
      "cell_type": "markdown",
      "metadata": {
        "id": "0DlGVPP5ScVi",
        "colab_type": "text"
      },
      "source": [
        "# **Linear Regression Model**"
      ]
    },
    {
      "cell_type": "code",
      "metadata": {
        "id": "soajHPItGQkw",
        "colab_type": "code",
        "colab": {
          "base_uri": "https://localhost:8080/",
          "height": 0
        },
        "outputId": "a812642a-54aa-4fce-f53b-227577cd222c"
      },
      "source": [
        "#Fitting the MLR to the Training set\n",
        "from sklearn.linear_model import LinearRegression\n",
        "linear_model=LinearRegression()\n",
        "linear_model.fit(x_train,y_train)"
      ],
      "execution_count": 251,
      "outputs": [
        {
          "output_type": "execute_result",
          "data": {
            "text/plain": [
              "LinearRegression(copy_X=True, fit_intercept=True, n_jobs=None, normalize=False)"
            ]
          },
          "metadata": {
            "tags": []
          },
          "execution_count": 251
        }
      ]
    },
    {
      "cell_type": "code",
      "metadata": {
        "id": "Sgg99cMHRU15",
        "colab_type": "code",
        "colab": {}
      },
      "source": [
        "#Predicting the test set results\n",
        "y_test_pred=linear_model.predict(x_test)"
      ],
      "execution_count": 252,
      "outputs": []
    },
    {
      "cell_type": "code",
      "metadata": {
        "id": "KJOgm-M9xeQg",
        "colab_type": "code",
        "colab": {
          "base_uri": "https://localhost:8080/",
          "height": 0
        },
        "outputId": "8bd48e67-dc65-4cca-dff0-cd81eb057401"
      },
      "source": [
        "plt.scatter(y_test_pred,y_test)"
      ],
      "execution_count": 253,
      "outputs": [
        {
          "output_type": "execute_result",
          "data": {
            "text/plain": [
              "<matplotlib.collections.PathCollection at 0x7f2b6f275240>"
            ]
          },
          "metadata": {
            "tags": []
          },
          "execution_count": 253
        },
        {
          "output_type": "display_data",
          "data": {
            "image/png": "[encoded data removed]",
            "text/plain": [
              "<Figure size 432x288 with 1 Axes>"
            ]
          },
          "metadata": {
            "tags": [],
            "needs_background": "light"
          }
        }
      ]
    },
    {
      "cell_type": "code",
      "metadata": {
        "id": "UxR9vUbplG7-",
        "colab_type": "code",
        "colab": {
          "base_uri": "https://localhost:8080/",
          "height": 0
        },
        "outputId": "40ef77a7-4542-490a-b6ca-f71c515af85f"
      },
      "source": [
        "sns.distplot((y_test_pred-y_test), bins=50)"
      ],
      "execution_count": 254,
      "outputs": [
        {
          "output_type": "execute_result",
          "data": {
            "text/plain": [
              "<matplotlib.axes._subplots.AxesSubplot at 0x7f2b6ffafe80>"
            ]
          },
          "metadata": {
            "tags": []
          },
          "execution_count": 254
        },
        {
          "output_type": "display_data",
          "data": {
            "image/png": "[encoded data removed]",
            "text/plain": [
              "<Figure size 432x288 with 1 Axes>"
            ]
          },
          "metadata": {
            "tags": [],
            "needs_background": "light"
          }
        }
      ]
    },
    {
      "cell_type": "code",
      "metadata": {
        "id": "RGjbb_nJlCFe",
        "colab_type": "code",
        "colab": {
          "base_uri": "https://localhost:8080/",
          "height": 0
        },
        "outputId": "07b04c51-b6f7-4c3b-879e-76d2353ed1ba"
      },
      "source": [
        "from sklearn.metrics import r2_score, mean_squared_error, mean_absolute_error\n",
        "mae=mean_absolute_error(y_test,y_test_pred)\n",
        "rmse=(np.sqrt(mean_squared_error(y_test,y_test_pred)))\n",
        "r2=r2_score(y_test,y_test_pred)\n",
        "print('MAE',mae)\n",
        "print('RMSE',rmse)\n",
        "print('r2_score',r2)"
      ],
      "execution_count": 255,
      "outputs": [
        {
          "output_type": "stream",
          "text": [
            "MAE 6850.439753239125\n",
            "RMSE 9349.770122152771\n",
            "r2_score 0.7171351131285482\n"
          ],
          "name": "stdout"
        }
      ]
    },
    {
      "cell_type": "markdown",
      "metadata": {
        "id": "Pbp5FB0ISxTv",
        "colab_type": "text"
      },
      "source": [
        "# **Decision Tree Model**"
      ]
    },
    {
      "cell_type": "code",
      "metadata": {
        "id": "NbEjN1vrvbKF",
        "colab_type": "code",
        "colab": {
          "base_uri": "https://localhost:8080/",
          "height": 0
        },
        "outputId": "7858290d-1436-4c8d-d5d6-8df2fb154bd1"
      },
      "source": [
        "#Fitting the DecisionTree to the Training set\n",
        "from sklearn.tree import DecisionTreeRegressor\n",
        "decisiontree_model= DecisionTreeRegressor(max_depth=100)\n",
        "decisiontree_model.fit(x_train,y_train)"
      ],
      "execution_count": 256,
      "outputs": [
        {
          "output_type": "execute_result",
          "data": {
            "text/plain": [
              "DecisionTreeRegressor(ccp_alpha=0.0, criterion='mse', max_depth=100,\n",
              "                      max_features=None, max_leaf_nodes=None,\n",
              "                      min_impurity_decrease=0.0, min_impurity_split=None,\n",
              "                      min_samples_leaf=1, min_samples_split=2,\n",
              "                      min_weight_fraction_leaf=0.0, presort='deprecated',\n",
              "                      random_state=None, splitter='best')"
            ]
          },
          "metadata": {
            "tags": []
          },
          "execution_count": 256
        }
      ]
    },
    {
      "cell_type": "code",
      "metadata": {
        "id": "2dgkQN3xwjct",
        "colab_type": "code",
        "colab": {}
      },
      "source": [
        "#Predicting the test set results\n",
        "y_test_pred=decisiontree_model.predict(x_test)"
      ],
      "execution_count": 257,
      "outputs": []
    },
    {
      "cell_type": "code",
      "metadata": {
        "id": "IbdNnW9gxiJR",
        "colab_type": "code",
        "colab": {
          "base_uri": "https://localhost:8080/",
          "height": 0
        },
        "outputId": "b8be6fa2-c881-4dd7-9917-3cee2a7648be"
      },
      "source": [
        "plt.scatter(y_test_pred,y_test)"
      ],
      "execution_count": 258,
      "outputs": [
        {
          "output_type": "execute_result",
          "data": {
            "text/plain": [
              "<matplotlib.collections.PathCollection at 0x7f2b70de2d68>"
            ]
          },
          "metadata": {
            "tags": []
          },
          "execution_count": 258
        },
        {
          "output_type": "display_data",
          "data": {
            "image/png": "[encoded data removed]",
            "text/plain": [
              "<Figure size 432x288 with 1 Axes>"
            ]
          },
          "metadata": {
            "tags": [],
            "needs_background": "light"
          }
        }
      ]
    },
    {
      "cell_type": "code",
      "metadata": {
        "id": "xsx1pqwclzc_",
        "colab_type": "code",
        "colab": {
          "base_uri": "https://localhost:8080/",
          "height": 0
        },
        "outputId": "29055060-34f0-4c80-cc94-4e21ec7ebcbf"
      },
      "source": [
        "sns.distplot((y_test_pred-y_test), bins=50)"
      ],
      "execution_count": 259,
      "outputs": [
        {
          "output_type": "execute_result",
          "data": {
            "text/plain": [
              "<matplotlib.axes._subplots.AxesSubplot at 0x7f2b70942320>"
            ]
          },
          "metadata": {
            "tags": []
          },
          "execution_count": 259
        },
        {
          "output_type": "display_data",
          "data": {
            "image/png": "[encoded data removed]",
            "text/plain": [
              "<Figure size 432x288 with 1 Axes>"
            ]
          },
          "metadata": {
            "tags": [],
            "needs_background": "light"
          }
        }
      ]
    },
    {
      "cell_type": "code",
      "metadata": {
        "id": "xaO6bW3sxWBI",
        "colab_type": "code",
        "colab": {
          "base_uri": "https://localhost:8080/",
          "height": 0
        },
        "outputId": "73ecd7dc-f8a6-47ff-e0fb-e67c634d8447"
      },
      "source": [
        "from sklearn.metrics import r2_score, mean_squared_error, mean_absolute_error\n",
        "mae=mean_absolute_error(y_test,y_test_pred)\n",
        "rmse=(np.sqrt(mean_squared_error(y_test,y_test_pred)))\n",
        "r2=r2_score(y_test,y_test_pred)\n",
        "print('MAE',mae)\n",
        "print('RMSE',rmse)\n",
        "print('r2_score',r2)"
      ],
      "execution_count": 260,
      "outputs": [
        {
          "output_type": "stream",
          "text": [
            "MAE 2743.9276968168338\n",
            "RMSE 4791.3709767365735\n",
            "r2_score 0.925715745479686\n"
          ],
          "name": "stdout"
        }
      ]
    },
    {
      "cell_type": "markdown",
      "metadata": {
        "id": "CACqAZhUw78t",
        "colab_type": "text"
      },
      "source": [
        "# **Random Forest Model**"
      ]
    },
    {
      "cell_type": "code",
      "metadata": {
        "id": "dcVyMGyjw6cV",
        "colab_type": "code",
        "colab": {
          "base_uri": "https://localhost:8080/",
          "height": 136
        },
        "outputId": "8e25d4dc-75c0-4ef6-d374-80165893c940"
      },
      "source": [
        "#Fitting the RandomForest to the Training set\n",
        "from sklearn.ensemble import RandomForestRegressor\n",
        "randomforest_model=RandomForestRegressor()\n",
        "randomforest_model.fit(x_train,y_train)"
      ],
      "execution_count": 261,
      "outputs": [
        {
          "output_type": "execute_result",
          "data": {
            "text/plain": [
              "RandomForestRegressor(bootstrap=True, ccp_alpha=0.0, criterion='mse',\n",
              "                      max_depth=None, max_features='auto', max_leaf_nodes=None,\n",
              "                      max_samples=None, min_impurity_decrease=0.0,\n",
              "                      min_impurity_split=None, min_samples_leaf=1,\n",
              "                      min_samples_split=2, min_weight_fraction_leaf=0.0,\n",
              "                      n_estimators=100, n_jobs=None, oob_score=False,\n",
              "                      random_state=None, verbose=0, warm_start=False)"
            ]
          },
          "metadata": {
            "tags": []
          },
          "execution_count": 261
        }
      ]
    },
    {
      "cell_type": "code",
      "metadata": {
        "id": "Iz5nO9LUyT4d",
        "colab_type": "code",
        "colab": {}
      },
      "source": [
        "#Predicting the test set results\n",
        "y_test_pred=randomforest_model.predict(x_test)"
      ],
      "execution_count": 262,
      "outputs": []
    },
    {
      "cell_type": "code",
      "metadata": {
        "id": "5AAtw43Zxlyk",
        "colab_type": "code",
        "colab": {
          "base_uri": "https://localhost:8080/",
          "height": 284
        },
        "outputId": "7d7d0b47-db0f-4936-a78f-8b9339952b60"
      },
      "source": [
        "plt.scatter(y_test_pred,y_test)"
      ],
      "execution_count": 263,
      "outputs": [
        {
          "output_type": "execute_result",
          "data": {
            "text/plain": [
              "<matplotlib.collections.PathCollection at 0x7f2b6f1722b0>"
            ]
          },
          "metadata": {
            "tags": []
          },
          "execution_count": 263
        },
        {
          "output_type": "display_data",
          "data": {
            "image/png": "[encoded data removed]",
            "text/plain": [
              "<Figure size 432x288 with 1 Axes>"
            ]
          },
          "metadata": {
            "tags": [],
            "needs_background": "light"
          }
        }
      ]
    },
    {
      "cell_type": "code",
      "metadata": {
        "id": "vHESg9DJl4Jt",
        "colab_type": "code",
        "colab": {
          "base_uri": "https://localhost:8080/",
          "height": 298
        },
        "outputId": "24ba0e20-7c41-47f2-8244-5b8a6d8665b3"
      },
      "source": [
        "sns.distplot((y_test_pred-y_test), bins=50)"
      ],
      "execution_count": 264,
      "outputs": [
        {
          "output_type": "execute_result",
          "data": {
            "text/plain": [
              "<matplotlib.axes._subplots.AxesSubplot at 0x7f2b6f068630>"
            ]
          },
          "metadata": {
            "tags": []
          },
          "execution_count": 264
        },
        {
          "output_type": "display_data",
          "data": {
            "image/png": "[encoded data removed]",
            "text/plain": [
              "<Figure size 432x288 with 1 Axes>"
            ]
          },
          "metadata": {
            "tags": [],
            "needs_background": "light"
          }
        }
      ]
    },
    {
      "cell_type": "code",
      "metadata": {
        "id": "eZeD5-MRxRkL",
        "colab_type": "code",
        "colab": {
          "base_uri": "https://localhost:8080/",
          "height": 68
        },
        "outputId": "cc1bbd10-8160-44e9-ef30-45bdc9cc0875"
      },
      "source": [
        "from sklearn.metrics import r2_score, mean_squared_error, mean_absolute_error\n",
        "mae=mean_absolute_error(y_test,y_test_pred)\n",
        "rmse=(np.sqrt(mean_squared_error(y_test,y_test_pred)))\n",
        "r2=r2_score(y_test,y_test_pred)\n",
        "print('MAE',mae)\n",
        "print('RMSE',rmse)\n",
        "print('r2_score',r2)"
      ],
      "execution_count": 265,
      "outputs": [
        {
          "output_type": "stream",
          "text": [
            "MAE 2513.1547407849835\n",
            "RMSE 3948.170283323732\n",
            "r2_score 0.9495607146747783\n"
          ],
          "name": "stdout"
        }
      ]
    },
    {
      "cell_type": "markdown",
      "metadata": {
        "id": "fOX6KXhQyk3d",
        "colab_type": "text"
      },
      "source": [
        "# **XGBoost Ensemble Method**"
      ]
    },
    {
      "cell_type": "code",
      "metadata": {
        "id": "Ip_fF_sjyjCc",
        "colab_type": "code",
        "colab": {
          "base_uri": "https://localhost:8080/",
          "height": 173
        },
        "outputId": "2d0c0a30-8ddf-4cd3-db0c-109792b1db44"
      },
      "source": [
        "#Fitting the XGBoost to the Training set\n",
        "import xgboost as xgb\n",
        "model_xgb=xgb.XGBRegressor()\n",
        "model_xgb.fit(x_train, y_train)"
      ],
      "execution_count": 266,
      "outputs": [
        {
          "output_type": "stream",
          "text": [
            "[10:28:48] WARNING: /workspace/src/objective/regression_obj.cu:152: reg:linear is now deprecated in favor of reg:squarederror.\n"
          ],
          "name": "stdout"
        },
        {
          "output_type": "execute_result",
          "data": {
            "text/plain": [
              "XGBRegressor(base_score=0.5, booster='gbtree', colsample_bylevel=1,\n",
              "             colsample_bynode=1, colsample_bytree=1, gamma=0,\n",
              "             importance_type='gain', learning_rate=0.1, max_delta_step=0,\n",
              "             max_depth=3, min_child_weight=1, missing=None, n_estimators=100,\n",
              "             n_jobs=1, nthread=None, objective='reg:linear', random_state=0,\n",
              "             reg_alpha=0, reg_lambda=1, scale_pos_weight=1, seed=None,\n",
              "             silent=None, subsample=1, verbosity=1)"
            ]
          },
          "metadata": {
            "tags": []
          },
          "execution_count": 266
        }
      ]
    },
    {
      "cell_type": "code",
      "metadata": {
        "id": "id2VdulipZIx",
        "colab_type": "code",
        "colab": {}
      },
      "source": [
        "#Predicting the test set results\n",
        "y_test_pred=model_xgb.predict(x_test)"
      ],
      "execution_count": 267,
      "outputs": []
    },
    {
      "cell_type": "code",
      "metadata": {
        "id": "mOkqE_xfxpGH",
        "colab_type": "code",
        "colab": {
          "base_uri": "https://localhost:8080/",
          "height": 284
        },
        "outputId": "b3594089-167d-4c0b-cd45-ff7e95e5fd30"
      },
      "source": [
        "plt.scatter(y_test_pred,y_test)"
      ],
      "execution_count": 268,
      "outputs": [
        {
          "output_type": "execute_result",
          "data": {
            "text/plain": [
              "<matplotlib.collections.PathCollection at 0x7f2b6f617b70>"
            ]
          },
          "metadata": {
            "tags": []
          },
          "execution_count": 268
        },
        {
          "output_type": "display_data",
          "data": {
            "image/png": "[encoded data removed]",
            "text/plain": [
              "<Figure size 432x288 with 1 Axes>"
            ]
          },
          "metadata": {
            "tags": [],
            "needs_background": "light"
          }
        }
      ]
    },
    {
      "cell_type": "code",
      "metadata": {
        "id": "dx9HkGT6pqht",
        "colab_type": "code",
        "colab": {
          "base_uri": "https://localhost:8080/",
          "height": 296
        },
        "outputId": "de7ecc8b-dc1e-4cba-b2e9-824ce593aa85"
      },
      "source": [
        "sns.distplot((y_test_pred-y_test), bins=50)"
      ],
      "execution_count": 269,
      "outputs": [
        {
          "output_type": "execute_result",
          "data": {
            "text/plain": [
              "<matplotlib.axes._subplots.AxesSubplot at 0x7f2b6fcdbc18>"
            ]
          },
          "metadata": {
            "tags": []
          },
          "execution_count": 269
        },
        {
          "output_type": "display_data",
          "data": {
            "image/png": "[encoded data removed]",
            "text/plain": [
              "<Figure size 432x288 with 1 Axes>"
            ]
          },
          "metadata": {
            "tags": [],
            "needs_background": "light"
          }
        }
      ]
    },
    {
      "cell_type": "code",
      "metadata": {
        "id": "MFNOsRhPpy6h",
        "colab_type": "code",
        "colab": {
          "base_uri": "https://localhost:8080/",
          "height": 68
        },
        "outputId": "73c9e43a-18de-4d3a-8959-c704ae18dcdd"
      },
      "source": [
        "from sklearn.metrics import r2_score, mean_squared_error, mean_absolute_error\n",
        "mae=mean_absolute_error(y_test,y_test_pred)\n",
        "rmse=(np.sqrt(mean_squared_error(y_test,y_test_pred)))\n",
        "r2=r2_score(y_test,y_test_pred)\n",
        "print('MAE',mae)\n",
        "print('RMSE',rmse)\n",
        "print('r2_score',r2)"
      ],
      "execution_count": 270,
      "outputs": [
        {
          "output_type": "stream",
          "text": [
            "MAE 3607.0327169260245\n",
            "RMSE 5280.9143062429475\n",
            "r2_score 0.9097607630979088\n"
          ],
          "name": "stdout"
        }
      ]
    },
    {
      "cell_type": "markdown",
      "metadata": {
        "id": "dtkbxPK7_Kzy",
        "colab_type": "text"
      },
      "source": [
        "# **AdaBoost Algorithm**"
      ]
    },
    {
      "cell_type": "code",
      "metadata": {
        "id": "yYJZFcsT_VX-",
        "colab_type": "code",
        "colab": {
          "base_uri": "https://localhost:8080/",
          "height": 0
        },
        "outputId": "9df1256c-9cf4-4ae4-b6a1-aea602fee231"
      },
      "source": [
        "#Fitting the AdaBoost to the Training set\n",
        "from sklearn.ensemble import AdaBoostRegressor\n",
        "Adaboost_model= AdaBoostRegressor()\n",
        "Adaboost_model.fit(x_train, y_train)"
      ],
      "execution_count": 271,
      "outputs": [
        {
          "output_type": "execute_result",
          "data": {
            "text/plain": [
              "AdaBoostRegressor(base_estimator=None, learning_rate=1.0, loss='linear',\n",
              "                  n_estimators=50, random_state=None)"
            ]
          },
          "metadata": {
            "tags": []
          },
          "execution_count": 271
        }
      ]
    },
    {
      "cell_type": "code",
      "metadata": {
        "id": "ojoqYcbg_dUv",
        "colab_type": "code",
        "colab": {}
      },
      "source": [
        "#Predicting the test set results\n",
        "y_test_pred=Adaboost_model.predict(x_test)"
      ],
      "execution_count": 272,
      "outputs": []
    },
    {
      "cell_type": "code",
      "metadata": {
        "id": "2iJEGXf0_zwZ",
        "colab_type": "code",
        "colab": {
          "base_uri": "https://localhost:8080/",
          "height": 0
        },
        "outputId": "2373d946-6452-48b8-e07d-0b06ba2ced63"
      },
      "source": [
        "plt.scatter(y_test_pred,y_test)"
      ],
      "execution_count": 273,
      "outputs": [
        {
          "output_type": "execute_result",
          "data": {
            "text/plain": [
              "<matplotlib.collections.PathCollection at 0x7f2b6fdbc710>"
            ]
          },
          "metadata": {
            "tags": []
          },
          "execution_count": 273
        },
        {
          "output_type": "display_data",
          "data": {
            "image/png": "[encoded data removed]",
            "text/plain": [
              "<Figure size 432x288 with 1 Axes>"
            ]
          },
          "metadata": {
            "tags": [],
            "needs_background": "light"
          }
        }
      ]
    },
    {
      "cell_type": "code",
      "metadata": {
        "id": "Wl24IvxZ_8ox",
        "colab_type": "code",
        "colab": {
          "base_uri": "https://localhost:8080/",
          "height": 0
        },
        "outputId": "ae088dd7-ca72-4aa1-b388-daa786c880e3"
      },
      "source": [
        "sns.distplot((y_test_pred-y_test), bins=50)"
      ],
      "execution_count": 274,
      "outputs": [
        {
          "output_type": "execute_result",
          "data": {
            "text/plain": [
              "<matplotlib.axes._subplots.AxesSubplot at 0x7f2b6fb750f0>"
            ]
          },
          "metadata": {
            "tags": []
          },
          "execution_count": 274
        },
        {
          "output_type": "display_data",
          "data": {
            "image/png": "[encoded data removed]",
            "text/plain": [
              "<Figure size 432x288 with 1 Axes>"
            ]
          },
          "metadata": {
            "tags": [],
            "needs_background": "light"
          }
        }
      ]
    },
    {
      "cell_type": "code",
      "metadata": {
        "id": "f_09qZoJ_5Ap",
        "colab_type": "code",
        "colab": {
          "base_uri": "https://localhost:8080/",
          "height": 0
        },
        "outputId": "9be61ac9-8fff-4bc6-8e49-59f14c2ed2df"
      },
      "source": [
        "from sklearn.metrics import r2_score, mean_squared_error, mean_absolute_error\n",
        "mae=mean_absolute_error(y_test,y_test_pred)\n",
        "rmse=(np.sqrt(mean_squared_error(y_test,y_test_pred)))\n",
        "r2=r2_score(y_test,y_test_pred)\n",
        "print('MAE',mae)\n",
        "print('RMSE',rmse)\n",
        "print('r2_score',r2)"
      ],
      "execution_count": 275,
      "outputs": [
        {
          "output_type": "stream",
          "text": [
            "MAE 6680.676028108782\n",
            "RMSE 8617.926200396816\n",
            "r2_score 0.7596839843022203\n"
          ],
          "name": "stdout"
        }
      ]
    },
    {
      "cell_type": "markdown",
      "metadata": {
        "id": "9ERmHoiTby30",
        "colab_type": "text"
      },
      "source": [
        "# **Conclusion**"
      ]
    },
    {
      "cell_type": "markdown",
      "metadata": {
        "id": "FnLjO4Rzb6Wr",
        "colab_type": "text"
      },
      "source": [
        "r2_score values :\n",
        "\n",
        "*   MLR = 71.7 %\n",
        "*   DecisionTree = 92.8 % \n",
        "*   RandomForest = 95 %\n",
        "*   XGBoost = 90.97 %\n",
        "*   AdaBoost = 74.5 %\n",
        "\n",
        "R2_score of Random Forest is the largest.\n",
        "And comparing MAE and RMSE of all the models, Random Forest has the terms with the lowest values. \n",
        "\n",
        "\n",
        "Random Forest algorithm gave the most desired output and hence is the best among these models for this car dataset.\n",
        "\n",
        "\n",
        "\n",
        "\n",
        "\n",
        "\n",
        "\n",
        "\n",
        "\n"
      ]
    }
  ]
}